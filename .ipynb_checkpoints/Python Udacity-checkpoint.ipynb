{
 "cells": [
  {
   "cell_type": "code",
   "execution_count": 2,
   "metadata": {},
   "outputs": [],
   "source": [
    "import matplotlib.pyplot as plt\n",
    "import matplotlib.image as mpimg\n",
    "import numpy as np"
   ]
  },
  {
   "cell_type": "code",
   "execution_count": 3,
   "metadata": {},
   "outputs": [
    {
     "name": "stdout",
     "output_type": "stream",
     "text": [
      "this image is:  <class 'numpy.ndarray'> with dimentions:  (540, 960, 3)\n"
     ]
    }
   ],
   "source": [
    "#read in the image and print out some stats\n",
    "image = mpimg.imread('C:/Users/JERAZO/Documents/Curso-MachineLearning/test.jpg')\n",
    "print('this image is: ', type(image),\n",
    "      'with dimentions: ', image.shape)\n",
    "\n",
    "#Grab the x and y size and make a copy of the image \n",
    "ysize = image.shape[0];\n",
    "xsize = image.shape[1];\n",
    "\n",
    "color_select = np.copy(image)\n"
   ]
  },
  {
   "cell_type": "code",
   "execution_count": 4,
   "metadata": {},
   "outputs": [],
   "source": [
    "# Define our color selection criteria\n",
    "# Note: if you run this code, you'll find these are not sensible values!!\n",
    "# But you'll get a change to play  with them soon in a quiz\n",
    "\n",
    "red_threshold = 200\n",
    "green_threshold = 200\n",
    "blue_threshold = 200\n",
    "\n",
    "rgb_threshold = [red_threshold, green_threshold, blue_threshold]"
   ]
  },
  {
   "cell_type": "code",
   "execution_count": 5,
   "metadata": {},
   "outputs": [
    {
     "data": {
      "image/png": "[encoded data removed]",
      "text/plain": [
       "<Figure size 432x288 with 1 Axes>"
      ]
     },
     "metadata": {
      "needs_background": "light"
     },
     "output_type": "display_data"
    }
   ],
   "source": [
    "#After that, all pixels that meet my color criterion (those above the threshold) will be retained, and those \n",
    "#that do not (below the threshold) will be blacked out.\n",
    "\n",
    "#Identify pixels below the threshold \n",
    "\n",
    "thresholds =(image[:,:,0] < rgb_threshold[0]) \\\n",
    "            | (image[:,:,0] < rgb_threshold[1]) \\\n",
    "            | (image[:,:,0] < rgb_threshold[2])\n",
    "color_select[thresholds] = [0,0,0]\n",
    "\n",
    "#Display the image\n",
    "\n",
    "plt.imshow(color_select)\n",
    "plt.show()"
   ]
  },
  {
   "cell_type": "code",
   "execution_count": 6,
   "metadata": {},
   "outputs": [
    {
     "data": {
      "text/plain": [
       "array([[[122, 185, 229],\n",
       "        [122, 185, 229],\n",
       "        [123, 186, 230],\n",
       "        ...,\n",
       "        [123, 184, 229],\n",
       "        [123, 184, 229],\n",
       "        [123, 184, 229]],\n",
       "\n",
       "       [[122, 185, 229],\n",
       "        [122, 185, 229],\n",
       "        [122, 185, 229],\n",
       "        ...,\n",
       "        [123, 184, 229],\n",
       "        [123, 184, 229],\n",
       "        [123, 184, 229]],\n",
       "\n",
       "       [[122, 185, 229],\n",
       "        [122, 185, 229],\n",
       "        [122, 185, 229],\n",
       "        ...,\n",
       "        [123, 184, 229],\n",
       "        [123, 184, 229],\n",
       "        [123, 184, 229]],\n",
       "\n",
       "       ...,\n",
       "\n",
       "       [[154, 166, 154],\n",
       "        [156, 168, 156],\n",
       "        [153, 165, 153],\n",
       "        ...,\n",
       "        [180, 197, 181],\n",
       "        [181, 198, 182],\n",
       "        [181, 198, 182]],\n",
       "\n",
       "       [[162, 174, 164],\n",
       "        [160, 172, 162],\n",
       "        [152, 164, 154],\n",
       "        ...,\n",
       "        [174, 192, 176],\n",
       "        [175, 193, 177],\n",
       "        [176, 194, 178]],\n",
       "\n",
       "       [[156, 168, 158],\n",
       "        [148, 160, 150],\n",
       "        [137, 149, 139],\n",
       "        ...,\n",
       "        [161, 179, 163],\n",
       "        [162, 180, 164],\n",
       "        [162, 180, 164]]], dtype=uint8)"
      ]
     },
     "execution_count": 6,
     "metadata": {},
     "output_type": "execute_result"
    }
   ],
   "source": [
    "import numpy as np\n",
    "a = np.array([[[1, 2, 3], [4 ,5, 6]], [[7, 8, 9], [10, 7, 8]]])\n",
    "a[:,:,0]\n",
    "color_select\n",
    "thresholds\n",
    "image"
   ]
  },
  {
   "cell_type": "code",
   "execution_count": 7,
   "metadata": {},
   "outputs": [
    {
     "ename": "SyntaxError",
     "evalue": "unexpected character after line continuation character (<ipython-input-7-e7ebe65257e4>, line 6)",
     "output_type": "error",
     "traceback": [
      "\u001b[1;36m  File \u001b[1;32m\"<ipython-input-7-e7ebe65257e4>\"\u001b[1;36m, line \u001b[1;32m6\u001b[0m\n\u001b[1;33m    s = (5<4) \\\u001b[0m\n\u001b[1;37m                ^\u001b[0m\n\u001b[1;31mSyntaxError\u001b[0m\u001b[1;31m:\u001b[0m unexpected character after line continuation character\n"
     ]
    }
   ],
   "source": [
    "b = np.array([[False], [False]])\n",
    "a = np.array([[3], [8]])\n",
    "a[b] = [0, 0]\n",
    "a\n",
    "\n",
    "s = (5<4) \\ \n",
    "    | (5<4) \\ \n",
    "    | (5<4)\n",
    "\n",
    "t[s] = [0,0,0]"
   ]
  }
 ],
 "metadata": {
  "kernelspec": {
   "display_name": "Python 3",
   "language": "python",
   "name": "python3"
  },
  "language_info": {
   "codemirror_mode": {
    "name": "ipython",
    "version": 3
   },
   "file_extension": ".py",
   "mimetype": "text/x-python",
   "name": "python",
   "nbconvert_exporter": "python",
   "pygments_lexer": "ipython3",
   "version": "3.7.0"
  }
 },
 "nbformat": 4,
 "nbformat_minor": 2
}
