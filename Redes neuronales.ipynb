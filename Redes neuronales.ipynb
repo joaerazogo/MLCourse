{
 "cells": [
  {
   "cell_type": "code",
   "execution_count": 1,
   "metadata": {},
   "outputs": [
    {
     "name": "stderr",
     "output_type": "stream",
     "text": [
      "/home/jose/anaconda3/lib/python3.7/site-packages/tensorflow/python/framework/dtypes.py:526: FutureWarning: Passing (type, 1) or '1type' as a synonym of type is deprecated; in a future version of numpy, it will be understood as (type, (1,)) / '(1,)type'.\n",
      "  _np_qint8 = np.dtype([(\"qint8\", np.int8, 1)])\n",
      "/home/jose/anaconda3/lib/python3.7/site-packages/tensorflow/python/framework/dtypes.py:527: FutureWarning: Passing (type, 1) or '1type' as a synonym of type is deprecated; in a future version of numpy, it will be understood as (type, (1,)) / '(1,)type'.\n",
      "  _np_quint8 = np.dtype([(\"quint8\", np.uint8, 1)])\n",
      "/home/jose/anaconda3/lib/python3.7/site-packages/tensorflow/python/framework/dtypes.py:528: FutureWarning: Passing (type, 1) or '1type' as a synonym of type is deprecated; in a future version of numpy, it will be understood as (type, (1,)) / '(1,)type'.\n",
      "  _np_qint16 = np.dtype([(\"qint16\", np.int16, 1)])\n",
      "/home/jose/anaconda3/lib/python3.7/site-packages/tensorflow/python/framework/dtypes.py:529: FutureWarning: Passing (type, 1) or '1type' as a synonym of type is deprecated; in a future version of numpy, it will be understood as (type, (1,)) / '(1,)type'.\n",
      "  _np_quint16 = np.dtype([(\"quint16\", np.uint16, 1)])\n",
      "/home/jose/anaconda3/lib/python3.7/site-packages/tensorflow/python/framework/dtypes.py:530: FutureWarning: Passing (type, 1) or '1type' as a synonym of type is deprecated; in a future version of numpy, it will be understood as (type, (1,)) / '(1,)type'.\n",
      "  _np_qint32 = np.dtype([(\"qint32\", np.int32, 1)])\n",
      "/home/jose/anaconda3/lib/python3.7/site-packages/tensorflow/python/framework/dtypes.py:535: FutureWarning: Passing (type, 1) or '1type' as a synonym of type is deprecated; in a future version of numpy, it will be understood as (type, (1,)) / '(1,)type'.\n",
      "  np_resource = np.dtype([(\"resource\", np.ubyte, 1)])\n"
     ]
    },
    {
     "name": "stdout",
     "output_type": "stream",
     "text": [
      "[[ 1.51464333 -1.11056098]\n",
      " [-1.11056098  0.83185596]]\n",
      "[[-0.57509596]\n",
      " [ 1.66806685]]\n"
     ]
    }
   ],
   "source": [
    "import tensorflow as tf\n",
    "import numpy as np\n",
    "x = np.array([[1.0, 2.1],[1.9, 3.2],[3.0, 3.9],[4.2, 5.2]])\n",
    "y = np.array([[3.1], [4.0], [5.1], [6.1]])\n",
    "\n",
    "# (X'X)^-1\n",
    "theta_normalEquation = np.transpose(x).dot(x)\n",
    "theta_normalEquation.shape\n",
    "invMatrix = np.linalg.inv(theta_normalEquation)\n",
    "print(invMatrix)\n",
    "\n",
    "# (X'y)\n",
    "multiply_Xt_y = np.transpose(x).dot(y)\n",
    "multiply_Xt_y\n",
    "\n",
    "#Se calcula los parámetros theta finales\n",
    "normalEquation_computed = invMatrix.dot(multiply_Xt_y)\n",
    "normalEquation_computed\n",
    "\n",
    "\n",
    "print(normalEquation_computed)"
   ]
  },
  {
   "cell_type": "code",
   "execution_count": 2,
   "metadata": {},
   "outputs": [
    {
     "name": "stdout",
     "output_type": "stream",
     "text": [
      "Tensor(\"Const:0\", shape=(), dtype=float32)\n"
     ]
    }
   ],
   "source": [
    "node1 = tf.constant(5.0) # tensor []\n",
    "node2 = tf.constant(2.0) # tensor []\n",
    "node3 = tf.constant(3.0) # tensor []\n",
    "node4 = tf.multiply(node1, node2) # operación\n",
    "node5 = tf.add(node3, node2) # operación\n",
    "node6 = tf.subtract(node4, node5) # operación\n",
    "print(node1)"
   ]
  },
  {
   "cell_type": "code",
   "execution_count": 3,
   "metadata": {},
   "outputs": [
    {
     "name": "stdout",
     "output_type": "stream",
     "text": [
      "outs = 5.0\n",
      "node6 = 5.0\n",
      "node4 = 10.0\n",
      "outs = [5.0, 10.0, 5.0]\n",
      "outs = 5.0\n"
     ]
    }
   ],
   "source": [
    "g1 = tf.Graph() # gráfica computacional \n",
    "g2 = tf.Graph() # gráfica computacional\n",
    "\n",
    "with g1.as_default():\n",
    "    a = tf.constant(1)\n",
    "    b = tf.constant(2)\n",
    "    c = tf.add(a, b)\n",
    "    \n",
    "with g2.as_default():\n",
    "    e = tf.constant(3)\n",
    "    f = tf.constant(4)\n",
    "    g = tf.add(e, f)\n",
    "    \n",
    "# para ejecutar las gráfias computacionales abrimos una sesión\n",
    "\n",
    "#extracting value with sess.run function.\n",
    "\n",
    "with tf.Session() as sess:\n",
    "    outs  = sess.run(node6)\n",
    "    print(\"outs = {}\".format(outs))\n",
    "    \n",
    "#extracting value with eval function.\n",
    "\n",
    "with tf.Session() as sess:\n",
    "    print('node6 = {}'.format(node6.eval()))\n",
    "    print('node4 = {}'.format(node4.eval()))\n",
    "\n",
    "#extracting value with sess.run function using a vector of nodes.\n",
    "    \n",
    "with tf.Session() as sess:\n",
    "    outs  = sess.run([node6, node4, node5])\n",
    "    print(\"outs = {}\".format(outs))\n",
    "    \n",
    "# the Session is stored in a variable\n",
    "\n",
    "sess = tf.Session()\n",
    "outs = sess.run(node6)\n",
    "sess.close() # the session is closed\n",
    "print(\"outs = {}\".format(outs))"
   ]
  },
  {
   "cell_type": "code",
   "execution_count": 4,
   "metadata": {},
   "outputs": [
    {
     "name": "stdout",
     "output_type": "stream",
     "text": [
      "3\n",
      "7\n"
     ]
    }
   ],
   "source": [
    "with tf.Session(graph=g1) as sess:\n",
    "    print(sess.run(c))\n",
    "    \n",
    "with tf.Session(graph=g2) as sess:\n",
    "    print(sess.run(g))"
   ]
  },
  {
   "cell_type": "code",
   "execution_count": 28,
   "metadata": {},
   "outputs": [
    {
     "name": "stdout",
     "output_type": "stream",
     "text": [
      "[[1. 1. 1.]\n",
      " [1. 1. 1.]\n",
      " [1. 1. 1.]]\n",
      "[[0. 0.]\n",
      " [0. 0.]]\n",
      "[[1. 1.]\n",
      " [1. 1.]]\n",
      "[[0.24983191 0.03563621]\n",
      " [2.0858328  0.18349512]\n",
      " [0.19290595 1.4268357 ]]\n",
      "[[0.3485005  0.06907332]\n",
      " [0.6510011  0.6785054 ]\n",
      " [0.88296425 0.8534262 ]]\n",
      "[[4 4]\n",
      " [4 4]\n",
      " [4 4]]\n",
      "[0.         0.1        0.2        0.3        0.4        0.5\n",
      " 0.6        0.7        0.8        0.90000004 1.        ]\n",
      "[[1 2 3]\n",
      " [4 5 6]]\n",
      "[2 5 1 6 4 3]\n",
      "[5 7 9]\n",
      "[ 6 15]\n",
      "21\n"
     ]
    }
   ],
   "source": [
    "#convierte una matriz de numpy a un tensor\n",
    "\n",
    "# We open a session creating a tensor 3x3 with ones\n",
    "\n",
    "with tf.Session() as sess:\n",
    "    a = np.ones((3, 3))\n",
    "    b = tf.convert_to_tensor(a).eval()\n",
    "\n",
    "print(b)\n",
    "\n",
    "# We open a session creating a tensor 2x2 with zeros\n",
    "\n",
    "with tf.Session() as sess:\n",
    "    print(tf.zeros((2,2)).eval())\n",
    "\n",
    "# We open a session creating a tensor 2x2 with ones\n",
    "\n",
    "with tf.Session() as sess:\n",
    "    print(tf.ones((2,2)).eval())\n",
    "    \n",
    "# We open a session creating a tensor 3x2 with random numbers\n",
    "\n",
    "with tf.Session() as sess:\n",
    "    print(tf.random_normal((3, 2), # shape\n",
    "                           0, # mean\n",
    "                           1).eval()) # sd\n",
    "\n",
    "# We open a session creating a tensor 3x2 with uniform random numbers\n",
    "\n",
    "with tf.Session() as sess:\n",
    "    print(tf.random_uniform((3, 2), # shape\n",
    "                           0, # minval\n",
    "                           1).eval()) # maxval\n",
    "\n",
    "# We open a session creating a tensor 3x2 full of 4s\n",
    "\n",
    "with tf.Session() as sess:\n",
    "    print(tf.fill((3, 2), # shape\n",
    "                   4).eval()) # value\n",
    "\n",
    "# We open a session creating a tensor of real numbers equally spaced\n",
    "\n",
    "with tf.Session() as sess:\n",
    "    print(tf.linspace(0.0, 1.0, 11).eval()) # value\n",
    "\n",
    "# We open a session creating a constant tensor from a list of lists that respresent a matrix\n",
    "\n",
    "with tf.Session() as sess:\n",
    "    print(tf.constant([[1, 2, 3],\n",
    "                       [4, 5, 6]]).eval()) # value\n",
    "\n",
    "# generate a tensor mixing the elements from a constant tensor\n",
    "\n",
    "with tf.Session() as sess:\n",
    "    print(tf.random_shuffle(tf.constant([1, 2, 3, 4, 5, 6])).eval()) # value\n",
    "\n",
    "# Create a tensor from a list of list that represent a matrix\n",
    "\n",
    "with tf.Session() as sess:\n",
    "    m = tf.constant([[1, 2, 3],\n",
    "                    [4, 5, 6]])\n",
    "    \n",
    "# add columns of a tensor\n",
    "\n",
    "with tf.Session() as sess:\n",
    "    print(tf.reduce_sum(m, reduction_indices = 0).eval()) # value\n",
    "\n",
    "# add rows of a tensor\n",
    "\n",
    "with tf.Session() as sess:\n",
    "    print(tf.reduce_sum(m, reduction_indices = 1).eval()) # value\n",
    "\n",
    "# add all elements form a tensor\n",
    "\n",
    "with tf.Session() as sess:\n",
    "    print(tf.reduce_sum(m).eval()) # value\n"
   ]
  },
  {
   "cell_type": "code",
   "execution_count": 3,
   "metadata": {
    "scrolled": true
   },
   "outputs": [
    {
     "name": "stdout",
     "output_type": "stream",
     "text": [
      "[ 0.09999999 11.7224      3.3613     51.07011   ]\n"
     ]
    }
   ],
   "source": [
    "## define a, b y c como placeholders\n",
    "x = tf.placeholder(tf.float32)\n",
    "\n",
    "## define los nodos de cómputo\n",
    "node1 = tf.multiply(0.3, tf.pow(x, 3))\n",
    "node2 = tf.multiply(0.6, tf.pow(x, 2))\n",
    "nodesubs1 = tf.subtract(node1, node2)\n",
    "node3 = tf.multiply(0.1, x)\n",
    "nodesubs2 = tf.subtract(nodesubs1, node3)\n",
    "nodeadd = tf.add(nodesubs2, 0.5)\n",
    "\n",
    "\n",
    "## evalua la operación para diferentes valores de a, b y c.\n",
    "with tf.Session() as sess:\n",
    "    print(sess.run(nodeadd, feed_dict={x:(1.0, 4.2, 3.1, 6.3)}))"
   ]
  },
  {
   "cell_type": "code",
   "execution_count": 12,
   "metadata": {},
   "outputs": [
    {
     "data": {
      "image/png": "[encoded data removed]",
      "text/plain": [
       "<Figure size 432x288 with 1 Axes>"
      ]
     },
     "metadata": {
      "needs_background": "light"
     },
     "output_type": "display_data"
    }
   ],
   "source": [
    "import matplotlib.pyplot as plt\n",
    "%matplotlib inline\n",
    "\n",
    "## Genera un tensor de 2x20 con valores aleatorios\n",
    "a = tf.random_normal([2, 20])\n",
    "\n",
    "## Realiza el cómputo\n",
    "with tf.Session() as sess:\n",
    "    result = sess.run(a)\n",
    "\n",
    "## Asigna las columnas de la matriz a x y y\n",
    "x, y = result\n",
    "\n",
    "## Construye el gráfico\n",
    "plt.scatter(x, y, color='red');"
   ]
  },
  {
   "cell_type": "code",
   "execution_count": 61,
   "metadata": {},
   "outputs": [
    {
     "name": "stdout",
     "output_type": "stream",
     "text": [
      "0.9999514330013718\n",
      "4.8566998628269686e-05\n",
      "4.8566998628269686e-05\n",
      "1.1457426376711864e-13\n",
      "[1 0 0 0]\n"
     ]
    }
   ],
   "source": [
    "#inplementación del and - x1 && x2\n",
    "\n",
    "def sigmoid(z):\n",
    "    f = 1/(1+ 2.7 ** (- int(z)))\n",
    "    return f\n",
    "\n",
    "def neural_networks(data_test_layer_1):\n",
    "    y = []\n",
    "    for i in data_test_layer_1:\n",
    "        z = np.dot(theta_layer_1.reshape(1,3), i.reshape(3,1))\n",
    "        hx_layer2 = sigmoid(z[0][0])\n",
    "        print(hx_layer2)\n",
    "        if(hx_layer2 >= 0.5):\n",
    "            y.append(1)\n",
    "        else:\n",
    "            y.append(0)\n",
    "    \n",
    "    return np.array(y)\n",
    "\n",
    "theta_layer_1 = np.array([-30, 20, 20])\n",
    "data_test_layer_1 = np.array([[1, 1, 1],\n",
    "                             [1, 1, 0],\n",
    "                             [1, 0, 1],\n",
    "                             [1, 0, 0]])\n",
    "\n",
    "print(neural_networks(data_test_layer_1))"
   ]
  },
  {
   "cell_type": "code",
   "execution_count": 62,
   "metadata": {},
   "outputs": [
    {
     "data": {
      "text/plain": [
       "1.000048566998743"
      ]
     },
     "execution_count": 62,
     "metadata": {},
     "output_type": "execute_result"
    }
   ],
   "source": [
    "0.9999514330013718 + 4.8566998628269686e-05 + 4.8566998628269686e-05 + 1.1457426376711864e-13"
   ]
  },
  {
   "cell_type": "code",
   "execution_count": 3,
   "metadata": {},
   "outputs": [],
   "source": [
    "import tensorflow as tf\n",
    "import numpy as np\n",
    "\n",
    "# we are definiting a operacion as follows: 5 * 3 - (3 + 2).\n",
    "\n",
    "node1 = tf.constant(5.0) # tensor[]\n",
    "node2= tf.constant(2.0) # tensor[]\n",
    "node3 = tf.constant(3.0) # tensor[]\n",
    "node4 = tf.multiply(node1, node3) # operacion\n",
    "node5 = tf.add(node3, node2) # operacion\n",
    "node6 = tf.subtract(node4,node5) # operacion"
   ]
  },
  {
   "cell_type": "code",
   "execution_count": 7,
   "metadata": {},
   "outputs": [
    {
     "name": "stdout",
     "output_type": "stream",
     "text": [
      "Tensor(\"Const_3:0\", shape=(), dtype=float32)\n"
     ]
    }
   ],
   "source": [
    "print(node1)"
   ]
  },
  {
   "cell_type": "code",
   "execution_count": 10,
   "metadata": {},
   "outputs": [],
   "source": [
    "g1 = tf.Graph()\n",
    "g2 = tf.Graph()\n",
    "\n",
    "with g1.as_default():\n",
    "    a = tf.constant(1)\n",
    "    b = tf.constant(2)\n",
    "    c = tf.add(a,b)\n",
    "    \n",
    "with g2.as_default():\n",
    "    e = tf.constant(3)\n",
    "    f = tf.constant(4)\n",
    "    g = tf.add(e, f)"
   ]
  },
  {
   "cell_type": "code",
   "execution_count": 13,
   "metadata": {},
   "outputs": [
    {
     "name": "stdout",
     "output_type": "stream",
     "text": [
      "outs = 10.0\n",
      "node6 = 10.0\n",
      "node4 = 15.0\n"
     ]
    }
   ],
   "source": [
    "with tf.Session() as sess:\n",
    "    outs = sess.run(node6)\n",
    "    print('outs = {}'.format(outs))\n",
    "\n",
    "with tf.Session() as sess:\n",
    "    print('node6 = {}'.format(node6.eval()))\n",
    "    print('node4 = {}'.format(node4.eval()))"
   ]
  },
  {
   "cell_type": "code",
   "execution_count": 15,
   "metadata": {},
   "outputs": [
    {
     "name": "stdout",
     "output_type": "stream",
     "text": [
      "outs = [10.0, 15.0, 5.0]\n"
     ]
    }
   ],
   "source": [
    "with tf.Session() as sess:\n",
    "    outs = sess.run([node6, node4, node5])\n",
    "    print('outs = {}'.format(outs))"
   ]
  },
  {
   "cell_type": "code",
   "execution_count": 18,
   "metadata": {},
   "outputs": [
    {
     "name": "stdout",
     "output_type": "stream",
     "text": [
      "outs = 10.0\n"
     ]
    }
   ],
   "source": [
    "sess = tf.Session()\n",
    "outs = sess.run(node6)\n",
    "sess.close()\n",
    "print('outs = {}'.format(outs))"
   ]
  },
  {
   "cell_type": "code",
   "execution_count": 20,
   "metadata": {},
   "outputs": [
    {
     "name": "stdout",
     "output_type": "stream",
     "text": [
      "3\n"
     ]
    }
   ],
   "source": [
    "with tf.Session(graph = g1) as sess:\n",
    "    print(sess.run(c))"
   ]
  },
  {
   "cell_type": "code",
   "execution_count": 22,
   "metadata": {},
   "outputs": [
    {
     "name": "stdout",
     "output_type": "stream",
     "text": [
      "7\n"
     ]
    }
   ],
   "source": [
    "with tf.Session(graph = g2) as sess:\n",
    "    print(sess.run(g))"
   ]
  },
  {
   "cell_type": "code",
   "execution_count": 24,
   "metadata": {},
   "outputs": [],
   "source": [
    "g3 = tf.Graph()\n",
    "with g3.as_default():\n",
    "    a = tf.constant(2.0)\n",
    "    b = tf.constant(-0.9)\n",
    "    c = tf.constant(2.5)\n",
    "    d = tf.constant(3.8)\n",
    "    e = tf.constant(4.3)\n",
    "    f = tf.pow(a, 3)\n",
    "    g = tf.multiply(b, f)\n",
    "    h = tf.pow(a, 2)\n",
    "    i = tf.multiply(c, h)\n",
    "    j = tf.add(g, i)\n",
    "    k = tf.multiply(d, a)\n",
    "    l = tf.add(k, e)\n",
    "    m = tf.subtract(j, l)"
   ]
  },
  {
   "cell_type": "code",
   "execution_count": 26,
   "metadata": {},
   "outputs": [
    {
     "name": "stdout",
     "output_type": "stream",
     "text": [
      "-9.099999\n"
     ]
    }
   ],
   "source": [
    "with tf.Session(graph=g3) as sess:\n",
    "    print(sess.run(m))"
   ]
  },
  {
   "cell_type": "code",
   "execution_count": 53,
   "metadata": {},
   "outputs": [],
   "source": [
    "node1 = tf.constant(2.0) #tensor []  \n",
    "node2 = tf.constant(-0.9) #tensor []\n",
    "node3 = tf.constant(2.5) #tensor []\n",
    "node4 = tf.constant(3.8) #tensor []\n",
    "node5 = tf.constant(4.3) #tensor []\n",
    "node6 = tf.pow(node1, 3.0)\n",
    "node7 = tf.multiply(node2, node6)\n",
    "node8 = tf.pow(node1, 2.0)\n",
    "node9 = tf.multiply(node3, node8)\n",
    "node10 = tf.add(node7, node9)\n",
    "node11 = tf.multiply(node4, node1)\n",
    "node12 = tf.add(node11, node5)\n",
    "node13 = tf.subtract(node10, node12)"
   ]
  },
  {
   "cell_type": "code",
   "execution_count": 56,
   "metadata": {},
   "outputs": [
    {
     "name": "stdout",
     "output_type": "stream",
     "text": [
      "node13 = -9.09999942779541\n",
      "node13 = -9.09999942779541\n"
     ]
    }
   ],
   "source": [
    "with tf.Session() as sess:\n",
    "    outs = sess.run(node13)\n",
    "    print('node13 = {}'.format(outs))\n",
    "    print('node13 = {}'.format(node13.eval()))"
   ]
  },
  {
   "cell_type": "code",
   "execution_count": null,
   "metadata": {},
   "outputs": [],
   "source": []
  }
 ],
 "metadata": {
  "kernelspec": {
   "display_name": "Python 3",
   "language": "python",
   "name": "python3"
  },
  "language_info": {
   "codemirror_mode": {
    "name": "ipython",
    "version": 3
   },
   "file_extension": ".py",
   "mimetype": "text/x-python",
   "name": "python",
   "nbconvert_exporter": "python",
   "pygments_lexer": "ipython3",
   "version": "3.7.3"
  }
 },
 "nbformat": 4,
 "nbformat_minor": 2
}
