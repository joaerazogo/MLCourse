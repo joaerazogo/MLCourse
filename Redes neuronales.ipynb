{
 "cells": [
  {
   "cell_type": "code",
   "execution_count": 2,
   "metadata": {},
   "outputs": [
    {
     "name": "stdout",
     "output_type": "stream",
     "text": [
      "[[ 1.51464333 -1.11056098]\n",
      " [-1.11056098  0.83185596]]\n",
      "[[-0.57509596]\n",
      " [ 1.66806685]]\n"
     ]
    }
   ],
   "source": [
    "import tensorflow as tf\n",
    "import numpy as np\n",
    "x = np.array([[1.0, 2.1],[1.9, 3.2],[3.0, 3.9],[4.2, 5.2]])\n",
    "y = np.array([[3.1], [4.0], [5.1], [6.1]])\n",
    "\n",
    "# (X'X)^-1\n",
    "theta_normalEquation = np.transpose(x).dot(x)\n",
    "theta_normalEquation.shape\n",
    "invMatrix = np.linalg.inv(theta_normalEquation)\n",
    "print(invMatrix)\n",
    "\n",
    "# (X'y)\n",
    "multiply_Xt_y = np.transpose(x).dot(y)\n",
    "multiply_Xt_y\n",
    "\n",
    "#Se calcula los parámetros theta finales\n",
    "normalEquation_computed = invMatrix.dot(multiply_Xt_y)\n",
    "normalEquation_computed\n",
    "\n",
    "\n",
    "print(normalEquation_computed)"
   ]
  },
  {
   "cell_type": "code",
   "execution_count": 3,
   "metadata": {},
   "outputs": [
    {
     "name": "stdout",
     "output_type": "stream",
     "text": [
      "Tensor(\"Const:0\", shape=(), dtype=float32)\n"
     ]
    }
   ],
   "source": [
    "node1 = tf.constant(5.0) # tensor []\n",
    "node2 = tf.constant(2.0) # tensor []\n",
    "node3 = tf.constant(3.0) # tensor []\n",
    "node4 = tf.multiply(node1, node2) # operación\n",
    "node5 = tf.add(node3, node2) # operación\n",
    "node6 = tf.subtract(node4, node5) # operación\n",
    "print(node1)"
   ]
  },
  {
   "cell_type": "code",
   "execution_count": 4,
   "metadata": {},
   "outputs": [
    {
     "name": "stdout",
     "output_type": "stream",
     "text": [
      "outs = 5.0\n",
      "node6 = 5.0\n",
      "node4 = 10.0\n",
      "outs = [5.0, 10.0, 5.0]\n",
      "outs = 5.0\n"
     ]
    }
   ],
   "source": [
    "g1 = tf.Graph() # gráfica computacional \n",
    "g2 = tf.Graph() # gráfica computacional\n",
    "\n",
    "with g1.as_default():\n",
    "    a = tf.constant(1)\n",
    "    b = tf.constant(2)\n",
    "    c = tf.add(a, b)\n",
    "    \n",
    "with g2.as_default():\n",
    "    e = tf.constant(3)\n",
    "    f = tf.constant(4)\n",
    "    g = tf.add(e, f)\n",
    "    \n",
    "# para ejecutar las gráfias computacionales abrimos una sesión\n",
    "\n",
    "#extracting value with sess.run function.\n",
    "\n",
    "with tf.Session() as sess:\n",
    "    outs  = sess.run(node6)\n",
    "    print(\"outs = {}\".format(outs))\n",
    "    \n",
    "#extracting value with eval function.\n",
    "\n",
    "with tf.Session() as sess:\n",
    "    print('node6 = {}'.format(node6.eval()))\n",
    "    print('node4 = {}'.format(node4.eval()))\n",
    "\n",
    "#extracting value with sess.run function using a vector of nodes.\n",
    "    \n",
    "with tf.Session() as sess:\n",
    "    outs  = sess.run([node6, node4, node5])\n",
    "    print(\"outs = {}\".format(outs))\n",
    "    \n",
    "# the Session is stored in a variable\n",
    "\n",
    "sess = tf.Session()\n",
    "outs = sess.run(node6)\n",
    "sess.close() # the session is closed\n",
    "print(\"outs = {}\".format(outs))"
   ]
  },
  {
   "cell_type": "code",
   "execution_count": 5,
   "metadata": {},
   "outputs": [
    {
     "name": "stdout",
     "output_type": "stream",
     "text": [
      "3\n",
      "7\n"
     ]
    }
   ],
   "source": [
    "with tf.Session(graph=g1) as sess:\n",
    "    print(sess.run(c))\n",
    "    \n",
    "with tf.Session(graph=g2) as sess:\n",
    "    print(sess.run(g))"
   ]
  },
  {
   "cell_type": "code",
   "execution_count": 6,
   "metadata": {},
   "outputs": [
    {
     "name": "stdout",
     "output_type": "stream",
     "text": [
      "[[1. 1. 1.]\n",
      " [1. 1. 1.]\n",
      " [1. 1. 1.]]\n",
      "[[0. 0.]\n",
      " [0. 0.]]\n",
      "[[1. 1.]\n",
      " [1. 1.]]\n",
      "[[ 2.2937257  -0.50127804]\n",
      " [-0.02000073 -0.911431  ]\n",
      " [-1.257477    0.7429016 ]]\n",
      "[[0.8987757  0.03715992]\n",
      " [0.92036664 0.42749023]\n",
      " [0.51321995 0.34290946]]\n",
      "[[4 4]\n",
      " [4 4]\n",
      " [4 4]]\n",
      "[0.         0.1        0.2        0.3        0.4        0.5\n",
      " 0.6        0.7        0.8        0.90000004 1.        ]\n",
      "[[1 2 3]\n",
      " [4 5 6]]\n",
      "[4 1 2 6 5 3]\n",
      "[5 7 9]\n",
      "[ 6 15]\n",
      "21\n"
     ]
    }
   ],
   "source": [
    "#convierte una matriz de numpy a un tensor\n",
    "\n",
    "# We open a session creating a tensor 3x3 with ones\n",
    "\n",
    "with tf.Session() as sess:\n",
    "    a = np.ones((3, 3))\n",
    "    b = tf.convert_to_tensor(a).eval()\n",
    "\n",
    "print(b)\n",
    "\n",
    "# We open a session creating a tensor 2x2 with zeros\n",
    "\n",
    "with tf.Session() as sess:\n",
    "    print(tf.zeros((2,2)).eval())\n",
    "\n",
    "# We open a session creating a tensor 2x2 with ones\n",
    "\n",
    "with tf.Session() as sess:\n",
    "    print(tf.ones((2,2)).eval())\n",
    "    \n",
    "# We open a session creating a tensor 3x2 with random numbers\n",
    "\n",
    "with tf.Session() as sess:\n",
    "    print(tf.random_normal((3, 2), # shape\n",
    "                           0, # mean\n",
    "                           1).eval()) # sd\n",
    "\n",
    "# We open a session creating a tensor 3x2 with uniform random numbers\n",
    "\n",
    "with tf.Session() as sess:\n",
    "    print(tf.random_uniform((3, 2), # shape\n",
    "                           0, # minval\n",
    "                           1).eval()) # maxval\n",
    "\n",
    "# We open a session creating a tensor 3x2 full of 4s\n",
    "\n",
    "with tf.Session() as sess:\n",
    "    print(tf.fill((3, 2), # shape\n",
    "                   4).eval()) # value\n",
    "\n",
    "# We open a session creating a tensor of real numbers equally spaced\n",
    "\n",
    "with tf.Session() as sess:\n",
    "    print(tf.linspace(0.0, 1.0, 11).eval()) # value\n",
    "\n",
    "# We open a session creating a constant tensor from a list of lists that respresent a matrix\n",
    "\n",
    "with tf.Session() as sess:\n",
    "    print(tf.constant([[1, 2, 3],\n",
    "                       [4, 5, 6]]).eval()) # value\n",
    "\n",
    "# generate a tensor mixing the elements from a constant tensor\n",
    "\n",
    "with tf.Session() as sess:\n",
    "    print(tf.random_shuffle(tf.constant([1, 2, 3, 4, 5, 6])).eval()) # value\n",
    "\n",
    "# Create a tensor from a list of list that represent a matrix\n",
    "\n",
    "with tf.Session() as sess:\n",
    "    m = tf.constant([[1, 2, 3],\n",
    "                    [4, 5, 6]])\n",
    "    \n",
    "# add columns of a tensor\n",
    "\n",
    "with tf.Session() as sess:\n",
    "    print(tf.reduce_sum(m, reduction_indices = 0).eval()) # value\n",
    "\n",
    "# add rows of a tensor\n",
    "\n",
    "with tf.Session() as sess:\n",
    "    print(tf.reduce_sum(m, reduction_indices = 1).eval()) # value\n",
    "\n",
    "# add all elements form a tensor\n",
    "\n",
    "with tf.Session() as sess:\n",
    "    print(tf.reduce_sum(m).eval()) # value\n"
   ]
  },
  {
   "cell_type": "code",
   "execution_count": 7,
   "metadata": {},
   "outputs": [
    {
     "name": "stdout",
     "output_type": "stream",
     "text": [
      "(2, 3)\n",
      "[[ 2  4  6]\n",
      " [ 8 10 12]]\n",
      "[[1 2 3 4 5 6]]\n",
      "[[ 7  4]\n",
      " [ 6 14]]\n",
      "[[ 7  4]\n",
      " [ 6 14]]\n",
      "3\n",
      "4\n"
     ]
    }
   ],
   "source": [
    "# obtain thw shape of a tensor\n",
    "\n",
    "with tf.Session() as sess:\n",
    "    m = tf.constant([[1, 2, 3],\n",
    "                    [4, 5, 6]])\n",
    "    print(m.get_shape())\n",
    "\n",
    "# sum of two tensor\n",
    "\n",
    "with tf.Session() as sess:\n",
    "    a = m + m\n",
    "    print(a.eval())\n",
    "    \n",
    "# reshape of a tensor\n",
    "\n",
    "with tf.Session() as sess:\n",
    "    print(tf.reshape(m, (1, 6)).eval())\n",
    "    \n",
    "# sum every element of a tensor\n",
    "\n",
    "with tf.Session() as sess:\n",
    "    a = tf.constant([[1, 2],\n",
    "                     [3, 4]])\n",
    "    b = tf.constant([[5, 0],\n",
    "                     [0, 6]])\n",
    "    print(tf.accumulate_n([a, b, a]).eval())\n",
    "    \n",
    "# sum every element of a tensor\n",
    "\n",
    "with tf.Session() as sess:\n",
    "    print(tf.add_n([a, b, a]).eval())\n",
    "\n",
    "# search the maximum value in the tensor and return the position counting from zero \n",
    "\n",
    "with tf.Session() as sess:\n",
    "    print(tf.argmax(tf.constant([1, 2, 3, 4, 0])).eval())\n",
    "\n",
    "with tf.Session() as sess:\n",
    "    print(tf.argmin(tf.constant([1, 2, 3, 4, 0])).eval())"
   ]
  },
  {
   "cell_type": "code",
   "execution_count": 8,
   "metadata": {},
   "outputs": [
    {
     "name": "stdout",
     "output_type": "stream",
     "text": [
      "WARNING:tensorflow:From /home/jose/anaconda3/lib/python3.7/site-packages/tensorflow/python/ops/tensor_array_ops.py:162: colocate_with (from tensorflow.python.framework.ops) is deprecated and will be removed in a future version.\n",
      "Instructions for updating:\n",
      "Colocations handled automatically by placer.\n",
      "[1. 0.]\n"
     ]
    }
   ],
   "source": [
    "# apply a function for each element of a vector\n",
    "\n",
    "f = lambda m : tf.cond(tf.greater_equal(m, 0.0),\n",
    "                       true_fn = lambda : tf.constant(1.0),\n",
    "                       false_fn = lambda : tf.constant(0.0))\n",
    "\n",
    "# define the tensor x\n",
    "\n",
    "x = tf.constant([1.0, -1.0])\n",
    "\n",
    "# apply the function f for each element of x\n",
    "\n",
    "y = tf.map_fn(f, x)\n",
    "\n",
    "with tf.Session() as sess:\n",
    "    print(sess.run(y))"
   ]
  },
  {
   "cell_type": "code",
   "execution_count": 9,
   "metadata": {},
   "outputs": [
    {
     "name": "stdout",
     "output_type": "stream",
     "text": [
      "[[1. ]\n",
      " [1.9]\n",
      " [3. ]\n",
      " [4.2]]\n"
     ]
    }
   ],
   "source": [
    "# Activity: for the matrix X and y, compute z=(X′X)−1X′y and p = Xz\n",
    "\n",
    "X = np.array([[1.0, 2.1], \n",
    "              [1.9, 3.2],\n",
    "              [3.0, 3.9],\n",
    "              [4.2, 5.2]])\n",
    "\n",
    "y = np.array([[1.0], \n",
    "              [1.9],\n",
    "              [3.0],\n",
    "              [4.2]])\n",
    "\n",
    "z = np.linalg.inv(np.transpose(X).dot(X)).dot(np.transpose(X).dot(y))\n",
    "p = np.dot(X, z)\n",
    "print(p)"
   ]
  },
  {
   "cell_type": "code",
   "execution_count": 10,
   "metadata": {
    "scrolled": true
   },
   "outputs": [
    {
     "name": "stdout",
     "output_type": "stream",
     "text": [
      "[ 0.09999999 11.7224      3.3613     51.07011   ]\n"
     ]
    }
   ],
   "source": [
    "## define a, b y c como placeholders\n",
    "x = tf.placeholder(tf.float32)\n",
    "\n",
    "## define los nodos de cómputo\n",
    "node1 = tf.multiply(0.3, tf.pow(x, 3))\n",
    "node2 = tf.multiply(0.6, tf.pow(x, 2))\n",
    "nodesubs1 = tf.subtract(node1, node2)\n",
    "node3 = tf.multiply(0.1, x)\n",
    "nodesubs2 = tf.subtract(nodesubs1, node3)\n",
    "nodeadd = tf.add(nodesubs2, 0.5)\n",
    "\n",
    "\n",
    "## evalua la operación para diferentes valores de a, b y c.\n",
    "with tf.Session() as sess:\n",
    "    print(sess.run(nodeadd, feed_dict={x:(1.0, 4.2, 3.1, 6.3)}))"
   ]
  },
  {
   "cell_type": "code",
   "execution_count": 11,
   "metadata": {},
   "outputs": [
    {
     "ename": "ModuleNotFoundError",
     "evalue": "No module named 'matplotlib'",
     "output_type": "error",
     "traceback": [
      "\u001b[0;31m---------------------------------------------------------------------------\u001b[0m",
      "\u001b[0;31mModuleNotFoundError\u001b[0m                       Traceback (most recent call last)",
      "\u001b[0;32m<ipython-input-11-08667cfdca73>\u001b[0m in \u001b[0;36m<module>\u001b[0;34m\u001b[0m\n\u001b[0;32m----> 1\u001b[0;31m \u001b[0;32mimport\u001b[0m \u001b[0mmatplotlib\u001b[0m\u001b[0;34m.\u001b[0m\u001b[0mpyplot\u001b[0m \u001b[0;32mas\u001b[0m \u001b[0mplt\u001b[0m\u001b[0;34m\u001b[0m\u001b[0;34m\u001b[0m\u001b[0m\n\u001b[0m\u001b[1;32m      2\u001b[0m \u001b[0mget_ipython\u001b[0m\u001b[0;34m(\u001b[0m\u001b[0;34m)\u001b[0m\u001b[0;34m.\u001b[0m\u001b[0mrun_line_magic\u001b[0m\u001b[0;34m(\u001b[0m\u001b[0;34m'matplotlib'\u001b[0m\u001b[0;34m,\u001b[0m \u001b[0;34m'inline'\u001b[0m\u001b[0;34m)\u001b[0m\u001b[0;34m\u001b[0m\u001b[0;34m\u001b[0m\u001b[0m\n\u001b[1;32m      3\u001b[0m \u001b[0;34m\u001b[0m\u001b[0m\n\u001b[1;32m      4\u001b[0m \u001b[0;31m## Genera un tensor de 2x20 con valores aleatorios\u001b[0m\u001b[0;34m\u001b[0m\u001b[0;34m\u001b[0m\u001b[0;34m\u001b[0m\u001b[0m\n\u001b[1;32m      5\u001b[0m \u001b[0ma\u001b[0m \u001b[0;34m=\u001b[0m \u001b[0mtf\u001b[0m\u001b[0;34m.\u001b[0m\u001b[0mrandom_normal\u001b[0m\u001b[0;34m(\u001b[0m\u001b[0;34m[\u001b[0m\u001b[0;36m2\u001b[0m\u001b[0;34m,\u001b[0m \u001b[0;36m20\u001b[0m\u001b[0;34m]\u001b[0m\u001b[0;34m)\u001b[0m\u001b[0;34m\u001b[0m\u001b[0;34m\u001b[0m\u001b[0m\n",
      "\u001b[0;31mModuleNotFoundError\u001b[0m: No module named 'matplotlib'"
     ]
    }
   ],
   "source": [
    "import matplotlib.pyplot as plt\n",
    "%matplotlib inline\n",
    "\n",
    "## Genera un tensor de 2x20 con valores aleatorios\n",
    "a = tf.random_normal([2, 20])\n",
    "\n",
    "## Realiza el cómputo\n",
    "with tf.Session() as sess:\n",
    "    result = sess.run(a)\n",
    "\n",
    "## Asigna las columnas de la matriz a x y y\n",
    "x, y = result\n",
    "\n",
    "## Construye el gráfico\n",
    "plt.scatter(x, y, color='red');"
   ]
  },
  {
   "cell_type": "code",
   "execution_count": 12,
   "metadata": {},
   "outputs": [
    {
     "name": "stdout",
     "output_type": "stream",
     "text": [
      "0.9999514330013718\n",
      "4.8566998628269686e-05\n",
      "4.8566998628269686e-05\n",
      "1.1457426376711864e-13\n",
      "[1 0 0 0]\n"
     ]
    }
   ],
   "source": [
    "#inplementación del and - x1 && x2\n",
    "\n",
    "def sigmoid(z):\n",
    "    f = 1/(1+ 2.7 ** (- int(z)))\n",
    "    return f\n",
    "\n",
    "def neural_networks(data_test_layer_1):\n",
    "    y = []\n",
    "    for i in data_test_layer_1:\n",
    "        z = np.dot(theta_layer_1.reshape(1,3), i.reshape(3,1))\n",
    "        hx_layer2 = sigmoid(z[0][0])\n",
    "        print(hx_layer2)\n",
    "        if(hx_layer2 >= 0.5):\n",
    "            y.append(1)\n",
    "        else:\n",
    "            y.append(0)\n",
    "    \n",
    "    return np.array(y)\n",
    "\n",
    "theta_layer_1 = np.array([-30, 20, 20])\n",
    "data_test_layer_1 = np.array([[1, 1, 1],\n",
    "                             [1, 1, 0],\n",
    "                             [1, 0, 1],\n",
    "                             [1, 0, 0]])\n",
    "\n",
    "print(neural_networks(data_test_layer_1))"
   ]
  },
  {
   "cell_type": "code",
   "execution_count": 13,
   "metadata": {},
   "outputs": [
    {
     "data": {
      "text/plain": [
       "1.000048566998743"
      ]
     },
     "execution_count": 13,
     "metadata": {},
     "output_type": "execute_result"
    }
   ],
   "source": [
    "0.9999514330013718 + 4.8566998628269686e-05 + 4.8566998628269686e-05 + 1.1457426376711864e-13"
   ]
  },
  {
   "cell_type": "code",
   "execution_count": 14,
   "metadata": {},
   "outputs": [],
   "source": [
    "import tensorflow as tf\n",
    "import numpy as np\n",
    "\n",
    "# we are definiting a operacion as follows: 5 * 3 - (3 + 2).\n",
    "\n",
    "node1 = tf.constant(5.0) # tensor[]\n",
    "node2= tf.constant(2.0) # tensor[]\n",
    "node3 = tf.constant(3.0) # tensor[]\n",
    "node4 = tf.multiply(node1, node3) # operacion\n",
    "node5 = tf.add(node3, node2) # operacion\n",
    "node6 = tf.subtract(node4,node5) # operacion"
   ]
  },
  {
   "cell_type": "code",
   "execution_count": 15,
   "metadata": {},
   "outputs": [
    {
     "name": "stdout",
     "output_type": "stream",
     "text": [
      "Tensor(\"Const_14:0\", shape=(), dtype=float32)\n"
     ]
    }
   ],
   "source": [
    "print(node1)"
   ]
  },
  {
   "cell_type": "code",
   "execution_count": 16,
   "metadata": {},
   "outputs": [],
   "source": [
    "g1 = tf.Graph()\n",
    "g2 = tf.Graph()\n",
    "\n",
    "with g1.as_default():\n",
    "    a = tf.constant(1)\n",
    "    b = tf.constant(2)\n",
    "    c = tf.add(a,b)\n",
    "    \n",
    "with g2.as_default():\n",
    "    e = tf.constant(3)\n",
    "    f = tf.constant(4)\n",
    "    g = tf.add(e, f)"
   ]
  },
  {
   "cell_type": "code",
   "execution_count": 17,
   "metadata": {},
   "outputs": [
    {
     "name": "stdout",
     "output_type": "stream",
     "text": [
      "outs = 10.0\n",
      "node6 = 10.0\n",
      "node4 = 15.0\n"
     ]
    }
   ],
   "source": [
    "with tf.Session() as sess:\n",
    "    outs = sess.run(node6)\n",
    "    print('outs = {}'.format(outs))\n",
    "\n",
    "with tf.Session() as sess:\n",
    "    print('node6 = {}'.format(node6.eval()))\n",
    "    print('node4 = {}'.format(node4.eval()))"
   ]
  },
  {
   "cell_type": "code",
   "execution_count": 18,
   "metadata": {},
   "outputs": [
    {
     "name": "stdout",
     "output_type": "stream",
     "text": [
      "outs = [10.0, 15.0, 5.0]\n"
     ]
    }
   ],
   "source": [
    "with tf.Session() as sess:\n",
    "    outs = sess.run([node6, node4, node5])\n",
    "    print('outs = {}'.format(outs))"
   ]
  },
  {
   "cell_type": "code",
   "execution_count": 19,
   "metadata": {},
   "outputs": [
    {
     "name": "stdout",
     "output_type": "stream",
     "text": [
      "outs = 10.0\n"
     ]
    }
   ],
   "source": [
    "sess = tf.Session()\n",
    "outs = sess.run(node6)\n",
    "sess.close()\n",
    "print('outs = {}'.format(outs))"
   ]
  },
  {
   "cell_type": "code",
   "execution_count": 20,
   "metadata": {},
   "outputs": [
    {
     "name": "stdout",
     "output_type": "stream",
     "text": [
      "3\n"
     ]
    }
   ],
   "source": [
    "with tf.Session(graph = g1) as sess:\n",
    "    print(sess.run(c))"
   ]
  },
  {
   "cell_type": "code",
   "execution_count": 21,
   "metadata": {},
   "outputs": [
    {
     "name": "stdout",
     "output_type": "stream",
     "text": [
      "7\n"
     ]
    }
   ],
   "source": [
    "with tf.Session(graph = g2) as sess:\n",
    "    print(sess.run(g))"
   ]
  },
  {
   "cell_type": "code",
   "execution_count": 22,
   "metadata": {},
   "outputs": [],
   "source": [
    "g3 = tf.Graph()\n",
    "with g3.as_default():\n",
    "    a = tf.constant(2.0)\n",
    "    b = tf.constant(-0.9)\n",
    "    c = tf.constant(2.5)\n",
    "    d = tf.constant(3.8)\n",
    "    e = tf.constant(4.3)\n",
    "    f = tf.pow(a, 3)\n",
    "    g = tf.multiply(b, f)\n",
    "    h = tf.pow(a, 2)\n",
    "    i = tf.multiply(c, h)\n",
    "    j = tf.add(g, i)\n",
    "    k = tf.multiply(d, a)\n",
    "    l = tf.add(k, e)\n",
    "    m = tf.subtract(j, l)"
   ]
  },
  {
   "cell_type": "code",
   "execution_count": 23,
   "metadata": {},
   "outputs": [
    {
     "name": "stdout",
     "output_type": "stream",
     "text": [
      "-9.099999\n"
     ]
    }
   ],
   "source": [
    "with tf.Session(graph=g3) as sess:\n",
    "    print(sess.run(m))"
   ]
  },
  {
   "cell_type": "code",
   "execution_count": 24,
   "metadata": {},
   "outputs": [],
   "source": [
    "node1 = tf.constant(2.0) #tensor []  \n",
    "node2 = tf.constant(-0.9) #tensor []\n",
    "node3 = tf.constant(2.5) #tensor []\n",
    "node4 = tf.constant(3.8) #tensor []\n",
    "node5 = tf.constant(4.3) #tensor []\n",
    "node6 = tf.pow(node1, 3.0)\n",
    "node7 = tf.multiply(node2, node6)\n",
    "node8 = tf.pow(node1, 2.0)\n",
    "node9 = tf.multiply(node3, node8)\n",
    "node10 = tf.add(node7, node9)\n",
    "node11 = tf.multiply(node4, node1)\n",
    "node12 = tf.add(node11, node5)\n",
    "node13 = tf.subtract(node10, node12)"
   ]
  },
  {
   "cell_type": "code",
   "execution_count": 25,
   "metadata": {},
   "outputs": [
    {
     "name": "stdout",
     "output_type": "stream",
     "text": [
      "node13 = -9.09999942779541\n",
      "node13 = -9.09999942779541\n"
     ]
    }
   ],
   "source": [
    "with tf.Session() as sess:\n",
    "    outs = sess.run(node13)\n",
    "    print('node13 = {}'.format(outs))\n",
    "    print('node13 = {}'.format(node13.eval()))"
   ]
  },
  {
   "cell_type": "code",
   "execution_count": 26,
   "metadata": {},
   "outputs": [
    {
     "name": "stdout",
     "output_type": "stream",
     "text": [
      "10.0\n",
      "3.0\n",
      "8.0\n"
     ]
    }
   ],
   "source": [
    "# define, a, b, c, as placeholders\n",
    "\n",
    "a = tf.placeholder(tf.float32)\n",
    "b = tf.placeholder(tf.float32)\n",
    "c = tf.placeholder(tf.float32)\n",
    "\n",
    "# define the nodes of compute\n",
    "\n",
    "node4 = tf.multiply(a, b)\n",
    "node5 = tf.add(c, b)\n",
    "node6 = tf.subtract(node4, node5)\n",
    "\n",
    "#Evaluate the operation for different values of a, b and c.\n",
    "\n",
    "with tf.Session() as sess:\n",
    "    print(sess.run(node6, feed_dict={a: 5, b: 3, c: 2}))\n",
    "    print(sess.run(node6, feed_dict={a: 4, b: 2, c: 3}))\n",
    "    print(sess.run(node6, feed_dict={a: 4, b: 3, c: 1}))"
   ]
  },
  {
   "cell_type": "code",
   "execution_count": 27,
   "metadata": {},
   "outputs": [
    {
     "name": "stdout",
     "output_type": "stream",
     "text": [
      "[[-1.4582057  -0.21723539  1.4629298 ]\n",
      " [ 1.2486441   0.92910933  1.3261446 ]\n",
      " [ 0.5615506   1.31273     0.30347848]]\n",
      "[[1 0 2]\n",
      " [6 1 9]\n",
      " [8 0 1]]\n"
     ]
    }
   ],
   "source": [
    "# the same operation but it has form of matrix\n",
    "\n",
    "a = tf.placeholder(tf.float32)\n",
    "b = tf.placeholder(tf.float32)\n",
    "c = tf.placeholder(tf.float32)\n",
    "\n",
    "# define the nodes of compute\n",
    "\n",
    "node4 = tf.multiply(a, b)\n",
    "node5 = tf.add(c, b)\n",
    "node6 = tf.subtract(node4, node5)\n",
    "\n",
    "with tf.Session() as sess:\n",
    "    print(sess.run(node6, feed_dict={a: [[1, 0, 0],\n",
    "                                         [0, 1, 0],\n",
    "                                         [0, 0, 1]],\n",
    "                                     b: np.random.normal(size=(3, 3)),\n",
    "                                     c: np.random.normal(size=(3, 3))}))\n",
    "    \n",
    "with tf.Session() as sess:\n",
    "    a = tf.constant([[1, 0, 2],\n",
    "                     [2, 1, 3],\n",
    "                     [4, 0, 1]])\n",
    "    b = tf.constant([[1, 1, 1],\n",
    "                     [3, 1, 3],\n",
    "                     [2, 0, 1]])\n",
    "    print(tf.multiply(a, b).eval())"
   ]
  },
  {
   "cell_type": "code",
   "execution_count": 52,
   "metadata": {},
   "outputs": [
    {
     "name": "stdout",
     "output_type": "stream",
     "text": [
      "1\n",
      "2\n",
      "3\n",
      "4\n",
      "5\n"
     ]
    }
   ],
   "source": [
    "#Create the variable and this initialize in zero\n",
    "\n",
    "n = tf.Variable(0)\n",
    "\n",
    "#syntactic tree that represent the operations\n",
    "\n",
    "node0 = tf.add(n, tf.constant(1))\n",
    "node1 = tf.assign(n, node0)\n",
    "\n",
    "#evaluate\n",
    "with tf.Session() as sess:\n",
    "    # the variables must be initialize before use\n",
    "    sess.run(tf.global_variables_initializer())\n",
    "    \n",
    "    for i in range(5):\n",
    "        #the value of the variables is retained between the calls to run()\n",
    "        print(sess.run(node1))"
   ]
  },
  {
   "cell_type": "code",
   "execution_count": null,
   "metadata": {},
   "outputs": [],
   "source": [
    "# Create the variable and this is initialized in zero\n",
    "n = tf.Variable(0)\n",
    "\n",
    "## syntiactic tree that represent the operations\n",
    "## we use tf.assign_add to simpiply the tree\n",
    "## exist tf.assign_sub too\n",
    "node0 = tf.assign_add(n, tf.constant(1))\n",
    "with tf.Session() as sess:\n",
    "    sess.run(tf.global_variables_initializer())\n",
    "    for i in range(5):\n",
    "        print(sess.run(node0))\n",
    "\n"
   ]
  },
  {
   "cell_type": "code",
   "execution_count": 67,
   "metadata": {},
   "outputs": [
    {
     "name": "stdout",
     "output_type": "stream",
     "text": [
      "[  0.3      -21.306398  -8.127299 -73.88412 ]\n",
      "[  0.3      -21.306398  -8.127299 -73.88412 ]\n",
      "[  0.3      -21.306398  -8.127299 -73.88412 ]\n",
      "[  0.3      -21.306398  -8.127299 -73.88412 ]\n"
     ]
    }
   ],
   "source": [
    "#Evaluate the function\n",
    "# define x as placeholders\n",
    "\n",
    "x = tf.placeholder(tf.float32)\n",
    "#x = tf.Variable(0)\n",
    "\n",
    "# define the nodes of compute\n",
    "\n",
    "node1 = tf.constant(0.3)\n",
    "node2 = tf.multiply(node1, tf.pow(x, 3))\n",
    "node3 = tf.constant(0.6)\n",
    "node4 = tf.multiply(node3, tf.pow(x, 3))\n",
    "node5 = tf.constant(-0.1)\n",
    "node6 = tf.multiply(node5, x)\n",
    "node7 = tf.constant(0.5)\n",
    "node8 = tf.subtract(node2, node4)\n",
    "node9 = tf.subtract(node6, node7)\n",
    "node10 = tf.subtract(node8, node9)\n",
    "\n",
    "\n",
    "#Evaluate the operation for different values of vector x\n",
    "\n",
    "with tf.Session() as sess:\n",
    "    for i in range(4):\n",
    "        print(sess.run(node10, feed_dict={x:[1.0, 4.2, 3.1, 6.3]}))"
   ]
  },
  {
   "cell_type": "code",
   "execution_count": null,
   "metadata": {},
   "outputs": [],
   "source": []
  }
 ],
 "metadata": {
  "kernelspec": {
   "display_name": "Python 3",
   "language": "python",
   "name": "python3"
  },
  "language_info": {
   "codemirror_mode": {
    "name": "ipython",
    "version": 3
   },
   "file_extension": ".py",
   "mimetype": "text/x-python",
   "name": "python",
   "nbconvert_exporter": "python",
   "pygments_lexer": "ipython3",
   "version": "3.7.3"
  }
 },
 "nbformat": 4,
 "nbformat_minor": 2
}
