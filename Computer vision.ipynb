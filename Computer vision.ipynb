{
 "cells": [
  {
   "cell_type": "code",
   "execution_count": null,
   "metadata": {},
   "outputs": [],
   "source": [
    "from PIL import Image, ImageFilter\n",
    "imagen_original = Image.open('/home/jose/MLCourse/images/comparativa_suavizado_color.jpg')\n",
    "tamanio = (5, 5)\n",
    "coeficientes = [0, 1, 2, 1, 1, 3, 5, 3, 1, 2, 5, 9, 5, 2, 1, 3, 5, 3, 1, 0, 1, 2, 1, 0]\n",
    "imagen_procesada = imagen_original.filter(ImageFilter.Kernel(tamanio, coeficientes))\n",
    "\n",
    "imagen_procesada.save('/home/jose/MLCourse/images/comparativa_suavizado_color(2).jpg')\n",
    "imagen_original.close()\n",
    "imagen_procesada.close()"
   ]
  },
  {
   "cell_type": "code",
   "execution_count": 20,
   "metadata": {},
   "outputs": [],
   "source": [
    "from PIL import Image, ImageFilter\n",
    " \n",
    "desviacion = 2.4\n",
    " \n",
    "imagen_original = Image.open('/home/jose/MLCourse/images/comparativa_suavizado_color.jpg')\n",
    " \n",
    "imagen_filtrada = imagen_original.filter(ImageFilter.GaussianBlur(desviacion))\n",
    " \n",
    "imagen_filtrada.save('/home/jose/MLCourse/images/comparativa_suavizado_color(1).jpg')\n",
    " \n",
    "imagen_original.close()\n",
    " \n",
    "imagen_filtrada.close()"
   ]
  },
  {
   "cell_type": "markdown",
   "metadata": {},
   "source": [
    "# Manipulación y procesamiento de imágenes usando Numpy y Scipy"
   ]
  },
  {
   "cell_type": "code",
   "execution_count": 29,
   "metadata": {},
   "outputs": [
    {
     "data": {
      "text/plain": [
       "((512, 512), dtype('float32'))"
      ]
     },
     "execution_count": 29,
     "metadata": {},
     "output_type": "execute_result"
    }
   ],
   "source": [
    "from scipy import ndimage, misc\n",
    "import matplotlib.pyplot as plt\n",
    "import matplotlib.image as mpimg\n",
    "\n",
    "lena = mpimg.imread('/home/jose/MLCourse/images/lena.png')\n",
    "type(lena)\n",
    "lena.shape, lena.dtype"
   ]
  },
  {
   "cell_type": "code",
   "execution_count": 33,
   "metadata": {},
   "outputs": [
    {
     "data": {
      "text/plain": [
       "<matplotlib.image.AxesImage at 0x7f7712ce2550>"
      ]
     },
     "execution_count": 33,
     "metadata": {},
     "output_type": "execute_result"
    },
    {
     "data": {
      "image/png": "[encoded data removed]",
      "text/plain": [
       "<Figure size 432x288 with 1 Axes>"
      ]
     },
     "metadata": {
      "needs_background": "light"
     },
     "output_type": "display_data"
    }
   ],
   "source": [
    "#plt.imshow(lena[200:220, 200:220], cmap=plt.cm.gray)\n",
    "plt.imshow(lena[200:220, 200:220], cmap=plt.cm.gray, interpolation='nearest')"
   ]
  },
  {
   "cell_type": "code",
   "execution_count": 34,
   "metadata": {},
   "outputs": [
    {
     "ename": "NameError",
     "evalue": "name 'scipy' is not defined",
     "output_type": "error",
     "traceback": [
      "\u001b[0;31m---------------------------------------------------------------------------\u001b[0m",
      "\u001b[0;31mNameError\u001b[0m                                 Traceback (most recent call last)",
      "\u001b[0;32m<ipython-input-34-9bd7b225c56a>\u001b[0m in \u001b[0;36m<module>\u001b[0;34m\u001b[0m\n\u001b[0;32m----> 1\u001b[0;31m \u001b[0mlena\u001b[0m \u001b[0;34m=\u001b[0m \u001b[0mscipy\u001b[0m\u001b[0;34m.\u001b[0m\u001b[0mlena\u001b[0m\u001b[0;34m(\u001b[0m\u001b[0;34m)\u001b[0m\u001b[0;34m\u001b[0m\u001b[0;34m\u001b[0m\u001b[0m\n\u001b[0m",
      "\u001b[0;31mNameError\u001b[0m: name 'scipy' is not defined"
     ]
    }
   ],
   "source": [
    "lena = scipy.lena()"
   ]
  }
 ],
 "metadata": {
  "kernelspec": {
   "display_name": "Python 3",
   "language": "python",
   "name": "python3"
  },
  "language_info": {
   "codemirror_mode": {
    "name": "ipython",
    "version": 3
   },
   "file_extension": ".py",
   "mimetype": "text/x-python",
   "name": "python",
   "nbconvert_exporter": "python",
   "pygments_lexer": "ipython3",
   "version": "3.7.4"
  }
 },
 "nbformat": 4,
 "nbformat_minor": 2
}
