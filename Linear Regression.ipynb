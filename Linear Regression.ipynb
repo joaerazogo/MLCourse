{
 "cells": [
  {
   "cell_type": "code",
   "execution_count": 3,
   "metadata": {},
   "outputs": [],
   "source": [
    "import numpy as np\n",
    "import pandas as pd\n",
    "import matplotlib.pyplot as plt\n",
    "import seaborn as sns\n",
    "\n",
    "%matplotlib inline\n",
    "sns.set()"
   ]
  },
  {
   "cell_type": "code",
   "execution_count": 123,
   "metadata": {},
   "outputs": [],
   "source": [
    "salesBlackFriday = pd.read_excel('/home/jose/Downloads/black_friday_app/datasets/TRM_Historico.xls')"
   ]
  },
  {
   "cell_type": "code",
   "execution_count": 124,
   "metadata": {},
   "outputs": [
    {
     "data": {
      "text/html": [
       "<div>\n",
       "<style scoped>\n",
       "    .dataframe tbody tr th:only-of-type {\n",
       "        vertical-align: middle;\n",
       "    }\n",
       "\n",
       "    .dataframe tbody tr th {\n",
       "        vertical-align: top;\n",
       "    }\n",
       "\n",
       "    .dataframe thead th {\n",
       "        text-align: right;\n",
       "    }\n",
       "</style>\n",
       "<table border=\"1\" class=\"dataframe\">\n",
       "  <thead>\n",
       "    <tr style=\"text-align: right;\">\n",
       "      <th></th>\n",
       "      <th>Fecha</th>\n",
       "      <th>TRM</th>\n",
       "    </tr>\n",
       "  </thead>\n",
       "  <tbody>\n",
       "    <tr>\n",
       "      <th>0</th>\n",
       "      <td>1991-11-27</td>\n",
       "      <td>693.32</td>\n",
       "    </tr>\n",
       "    <tr>\n",
       "      <th>1</th>\n",
       "      <td>1991-11-28</td>\n",
       "      <td>693.99</td>\n",
       "    </tr>\n",
       "    <tr>\n",
       "      <th>2</th>\n",
       "      <td>1991-11-29</td>\n",
       "      <td>694.70</td>\n",
       "    </tr>\n",
       "    <tr>\n",
       "      <th>3</th>\n",
       "      <td>1991-11-30</td>\n",
       "      <td>694.70</td>\n",
       "    </tr>\n",
       "    <tr>\n",
       "      <th>4</th>\n",
       "      <td>1991-12-01</td>\n",
       "      <td>643.42</td>\n",
       "    </tr>\n",
       "  </tbody>\n",
       "</table>\n",
       "</div>"
      ],
      "text/plain": [
       "       Fecha     TRM\n",
       "0 1991-11-27  693.32\n",
       "1 1991-11-28  693.99\n",
       "2 1991-11-29  694.70\n",
       "3 1991-11-30  694.70\n",
       "4 1991-12-01  643.42"
      ]
     },
     "execution_count": 124,
     "metadata": {},
     "output_type": "execute_result"
    }
   ],
   "source": [
    "salesBlackFriday.head()"
   ]
  },
  {
   "cell_type": "code",
   "execution_count": 125,
   "metadata": {},
   "outputs": [
    {
     "data": {
      "text/plain": [
       "Fecha    datetime64[ns]\n",
       "TRM             float64\n",
       "dtype: object"
      ]
     },
     "execution_count": 125,
     "metadata": {},
     "output_type": "execute_result"
    }
   ],
   "source": [
    "#tipos de datos de los campos\n",
    "salesBlackFriday.dtypes"
   ]
  },
  {
   "cell_type": "code",
   "execution_count": 126,
   "metadata": {},
   "outputs": [
    {
     "name": "stdout",
     "output_type": "stream",
     "text": [
      "<class 'pandas.core.frame.DataFrame'>\n",
      "RangeIndex: 9821 entries, 0 to 9820\n",
      "Data columns (total 2 columns):\n",
      "Fecha    9821 non-null datetime64[ns]\n",
      "TRM      9821 non-null float64\n",
      "dtypes: datetime64[ns](1), float64(1)\n",
      "memory usage: 153.5 KB\n"
     ]
    }
   ],
   "source": [
    "#información de la base de datos\n",
    "salesBlackFriday.info()"
   ]
  },
  {
   "cell_type": "code",
   "execution_count": 127,
   "metadata": {},
   "outputs": [
    {
     "data": {
      "text/html": [
       "<div>\n",
       "<style scoped>\n",
       "    .dataframe tbody tr th:only-of-type {\n",
       "        vertical-align: middle;\n",
       "    }\n",
       "\n",
       "    .dataframe tbody tr th {\n",
       "        vertical-align: top;\n",
       "    }\n",
       "\n",
       "    .dataframe thead th {\n",
       "        text-align: right;\n",
       "    }\n",
       "</style>\n",
       "<table border=\"1\" class=\"dataframe\">\n",
       "  <thead>\n",
       "    <tr style=\"text-align: right;\">\n",
       "      <th></th>\n",
       "      <th>TRM</th>\n",
       "    </tr>\n",
       "  </thead>\n",
       "  <tbody>\n",
       "    <tr>\n",
       "      <th>count</th>\n",
       "      <td>9821.000000</td>\n",
       "    </tr>\n",
       "    <tr>\n",
       "      <th>mean</th>\n",
       "      <td>1947.144108</td>\n",
       "    </tr>\n",
       "    <tr>\n",
       "      <th>std</th>\n",
       "      <td>705.396325</td>\n",
       "    </tr>\n",
       "    <tr>\n",
       "      <th>min</th>\n",
       "      <td>620.620000</td>\n",
       "    </tr>\n",
       "    <tr>\n",
       "      <th>25%</th>\n",
       "      <td>1397.120000</td>\n",
       "    </tr>\n",
       "    <tr>\n",
       "      <th>50%</th>\n",
       "      <td>1965.830000</td>\n",
       "    </tr>\n",
       "    <tr>\n",
       "      <th>75%</th>\n",
       "      <td>2389.750000</td>\n",
       "    </tr>\n",
       "    <tr>\n",
       "      <th>max</th>\n",
       "      <td>3434.890000</td>\n",
       "    </tr>\n",
       "  </tbody>\n",
       "</table>\n",
       "</div>"
      ],
      "text/plain": [
       "               TRM\n",
       "count  9821.000000\n",
       "mean   1947.144108\n",
       "std     705.396325\n",
       "min     620.620000\n",
       "25%    1397.120000\n",
       "50%    1965.830000\n",
       "75%    2389.750000\n",
       "max    3434.890000"
      ]
     },
     "execution_count": 127,
     "metadata": {},
     "output_type": "execute_result"
    }
   ],
   "source": [
    "salesBlackFriday.describe()"
   ]
  },
  {
   "cell_type": "code",
   "execution_count": 128,
   "metadata": {},
   "outputs": [],
   "source": [
    "#se modifica el índice y se nombra con index\n",
    "salesBlackFriday.index = salesBlackFriday.Fecha\n",
    "salesBlackFriday.index.names = ['index']"
   ]
  },
  {
   "cell_type": "code",
   "execution_count": 129,
   "metadata": {},
   "outputs": [
    {
     "data": {
      "text/html": [
       "<div>\n",
       "<style scoped>\n",
       "    .dataframe tbody tr th:only-of-type {\n",
       "        vertical-align: middle;\n",
       "    }\n",
       "\n",
       "    .dataframe tbody tr th {\n",
       "        vertical-align: top;\n",
       "    }\n",
       "\n",
       "    .dataframe thead th {\n",
       "        text-align: right;\n",
       "    }\n",
       "</style>\n",
       "<table border=\"1\" class=\"dataframe\">\n",
       "  <thead>\n",
       "    <tr style=\"text-align: right;\">\n",
       "      <th></th>\n",
       "      <th>Fecha</th>\n",
       "      <th>TRM</th>\n",
       "    </tr>\n",
       "    <tr>\n",
       "      <th>index</th>\n",
       "      <th></th>\n",
       "      <th></th>\n",
       "    </tr>\n",
       "  </thead>\n",
       "  <tbody>\n",
       "    <tr>\n",
       "      <th>1991-11-27</th>\n",
       "      <td>1991-11-27</td>\n",
       "      <td>693.32</td>\n",
       "    </tr>\n",
       "    <tr>\n",
       "      <th>1991-11-28</th>\n",
       "      <td>1991-11-28</td>\n",
       "      <td>693.99</td>\n",
       "    </tr>\n",
       "    <tr>\n",
       "      <th>1991-11-29</th>\n",
       "      <td>1991-11-29</td>\n",
       "      <td>694.70</td>\n",
       "    </tr>\n",
       "    <tr>\n",
       "      <th>1991-11-30</th>\n",
       "      <td>1991-11-30</td>\n",
       "      <td>694.70</td>\n",
       "    </tr>\n",
       "    <tr>\n",
       "      <th>1991-12-01</th>\n",
       "      <td>1991-12-01</td>\n",
       "      <td>643.42</td>\n",
       "    </tr>\n",
       "  </tbody>\n",
       "</table>\n",
       "</div>"
      ],
      "text/plain": [
       "                Fecha     TRM\n",
       "index                        \n",
       "1991-11-27 1991-11-27  693.32\n",
       "1991-11-28 1991-11-28  693.99\n",
       "1991-11-29 1991-11-29  694.70\n",
       "1991-11-30 1991-11-30  694.70\n",
       "1991-12-01 1991-12-01  643.42"
      ]
     },
     "execution_count": 129,
     "metadata": {},
     "output_type": "execute_result"
    }
   ],
   "source": [
    "salesBlackFriday.head()"
   ]
  },
  {
   "cell_type": "code",
   "execution_count": 130,
   "metadata": {},
   "outputs": [
    {
     "data": {
      "image/png": "[encoded data removed]",
      "text/plain": [
       "<Figure size 1440x720 with 1 Axes>"
      ]
     },
     "metadata": {
      "needs_background": "light"
     },
     "output_type": "display_data"
    }
   ],
   "source": [
    "salesBlackFriday.plot(x='Fecha', y='TRM', figsize=(20,10), linewidth=3, fontsize=10)\n",
    "plt.xlabel('Year', fontsize=20)\n",
    "plt.ylabel('Tasa Representativa del Mercado (TRM) (Dólares)', fontsize=20)\n",
    "plt.show()"
   ]
  },
  {
   "cell_type": "markdown",
   "metadata": {},
   "source": [
    "# El modelo de regresión lineal solo acepta números, por ende, cambiamos el tipo de dato fecha a number"
   ]
  },
  {
   "cell_type": "code",
   "execution_count": 131,
   "metadata": {},
   "outputs": [
    {
     "data": {
      "text/plain": [
       "dtype('<M8[ns]')"
      ]
     },
     "execution_count": 131,
     "metadata": {},
     "output_type": "execute_result"
    }
   ],
   "source": [
    "salesBlackFriday['Fecha'].dtype"
   ]
  },
  {
   "cell_type": "code",
   "execution_count": 132,
   "metadata": {},
   "outputs": [],
   "source": [
    "import datetime as dt\n",
    "\n",
    "salesBlackFriday['Fecha'] = pd.to_datetime(salesBlackFriday['Fecha'])\n",
    "salesBlackFriday['Fecha'] = salesBlackFriday['Fecha'].map(dt.datetime.toordinal)"
   ]
  },
  {
   "cell_type": "code",
   "execution_count": 133,
   "metadata": {},
   "outputs": [
    {
     "data": {
      "text/plain": [
       "dtype('int64')"
      ]
     },
     "execution_count": 133,
     "metadata": {},
     "output_type": "execute_result"
    }
   ],
   "source": [
    "salesBlackFriday['Fecha']\n",
    "salesBlackFriday['Fecha'].dtype"
   ]
  },
  {
   "cell_type": "code",
   "execution_count": 134,
   "metadata": {},
   "outputs": [
    {
     "data": {
      "text/plain": [
       "array([ 693.32,  693.99,  694.7 , ..., 3088.78, 3088.78, 3088.78])"
      ]
     },
     "execution_count": 134,
     "metadata": {},
     "output_type": "execute_result"
    }
   ],
   "source": [
    "dataDate = salesBlackFriday[['Fecha']]\n",
    "\n",
    "# se genera el array 2D con el índice y fecha\n",
    "\n",
    "dates = np.array(dataDate)\n",
    "\n",
    "# se genera el array 1D con el TRM\n",
    "\n",
    "prices = np.array(salesBlackFriday['TRM'])\n",
    "prices"
   ]
  },
  {
   "cell_type": "code",
   "execution_count": 135,
   "metadata": {},
   "outputs": [
    {
     "data": {
      "text/html": [
       "<div>\n",
       "<style scoped>\n",
       "    .dataframe tbody tr th:only-of-type {\n",
       "        vertical-align: middle;\n",
       "    }\n",
       "\n",
       "    .dataframe tbody tr th {\n",
       "        vertical-align: top;\n",
       "    }\n",
       "\n",
       "    .dataframe thead th {\n",
       "        text-align: right;\n",
       "    }\n",
       "</style>\n",
       "<table border=\"1\" class=\"dataframe\">\n",
       "  <thead>\n",
       "    <tr style=\"text-align: right;\">\n",
       "      <th></th>\n",
       "      <th>Fecha</th>\n",
       "      <th>TRM</th>\n",
       "    </tr>\n",
       "    <tr>\n",
       "      <th>index</th>\n",
       "      <th></th>\n",
       "      <th></th>\n",
       "    </tr>\n",
       "  </thead>\n",
       "  <tbody>\n",
       "    <tr>\n",
       "      <th>2018-10-12</th>\n",
       "      <td>736979</td>\n",
       "      <td>3087.34</td>\n",
       "    </tr>\n",
       "    <tr>\n",
       "      <th>2018-10-13</th>\n",
       "      <td>736980</td>\n",
       "      <td>3088.78</td>\n",
       "    </tr>\n",
       "    <tr>\n",
       "      <th>2018-10-14</th>\n",
       "      <td>736981</td>\n",
       "      <td>3088.78</td>\n",
       "    </tr>\n",
       "    <tr>\n",
       "      <th>2018-10-15</th>\n",
       "      <td>736982</td>\n",
       "      <td>3088.78</td>\n",
       "    </tr>\n",
       "    <tr>\n",
       "      <th>2018-10-16</th>\n",
       "      <td>736983</td>\n",
       "      <td>3088.78</td>\n",
       "    </tr>\n",
       "  </tbody>\n",
       "</table>\n",
       "</div>"
      ],
      "text/plain": [
       "             Fecha      TRM\n",
       "index                      \n",
       "2018-10-12  736979  3087.34\n",
       "2018-10-13  736980  3088.78\n",
       "2018-10-14  736981  3088.78\n",
       "2018-10-15  736982  3088.78\n",
       "2018-10-16  736983  3088.78"
      ]
     },
     "execution_count": 135,
     "metadata": {},
     "output_type": "execute_result"
    }
   ],
   "source": [
    "salesBlackFriday.tail()"
   ]
  },
  {
   "cell_type": "code",
   "execution_count": 136,
   "metadata": {},
   "outputs": [
    {
     "data": {
      "text/plain": [
       "array([3294.02, 1759.41, 2934.03, ..., 1918.62, 1866.2 , 1998.95])"
      ]
     },
     "execution_count": 136,
     "metadata": {},
     "output_type": "execute_result"
    }
   ],
   "source": [
    "from sklearn.linear_model import LinearRegression\n",
    "from sklearn.model_selection import train_test_split\n",
    "\n",
    "#separar los datos del dataset de entrenamiento\n",
    "\n",
    "X_train, X_test, y_train, y_test = train_test_split(dates, prices)\n",
    "y_test"
   ]
  },
  {
   "cell_type": "code",
   "execution_count": 137,
   "metadata": {},
   "outputs": [
    {
     "data": {
      "text/plain": [
       "LinearRegression(copy_X=True, fit_intercept=True, n_jobs=None,\n",
       "         normalize=False)"
      ]
     },
     "execution_count": 137,
     "metadata": {},
     "output_type": "execute_result"
    }
   ],
   "source": [
    "#Creamos el objeto de LinearRegression que va a ser nuestor modelo a usar\n",
    "\n",
    "regr = LinearRegression()\n",
    "\n",
    "#Ajustamos el modelo con nuestros datos\n",
    "\n",
    "regr.fit(X_train, y_train)"
   ]
  },
  {
   "cell_type": "code",
   "execution_count": 138,
   "metadata": {},
   "outputs": [
    {
     "name": "stdout",
     "output_type": "stream",
     "text": [
      "Pendiente:  [0.18594729]  - Inercepto con el eje y:  -134178.32762218357\n"
     ]
    }
   ],
   "source": [
    "print('Pendiente: ', regr.coef_, ' - Inercepto con el eje y: ', regr.intercept_)"
   ]
  },
  {
   "cell_type": "code",
   "execution_count": 145,
   "metadata": {},
   "outputs": [
    {
     "data": {
      "text/plain": [
       "array([2668.09259418, 2367.97366873, 2726.85193769, ..., 2581.25520992,\n",
       "       2345.65999398, 1607.2633069 ])"
      ]
     },
     "execution_count": 145,
     "metadata": {},
     "output_type": "execute_result"
    }
   ],
   "source": [
    "y_predic = regr.predict(X_test)\n",
    "y_predic"
   ]
  },
  {
   "cell_type": "markdown",
   "metadata": {},
   "source": [
    "# Ahora, se probará con el gradiente del descenso para hallar el valor del intercepto con el eje y y la pendiente de la ecuación de la regresión lineal"
   ]
  },
  {
   "cell_type": "code",
   "execution_count": 221,
   "metadata": {},
   "outputs": [
    {
     "name": "stdout",
     "output_type": "stream",
     "text": [
      "Intercepto con el eje y =  0.19628483074540315 Pendiente de la ecuación =  143697.0338077203\n"
     ]
    }
   ],
   "source": [
    "# Pendiente:  [0.18594729]  - Inercepto con el eje y:  -134178.32762218357\n",
    "\n",
    "#Definimos alpha\n",
    "alpha = 0.0000000000000009\n",
    "\n",
    "#inicializamos theta_0 y theta_1\n",
    "theta_zero = 0\n",
    "theta_one = 0\n",
    "\n",
    "for i in range(1, 20):\n",
    "    \n",
    "    temp_theta_zero = theta_zero - alpha * (1/len(X_train)) * np.sum((theta_zero + theta_one * X_train) - y_train)\n",
    "    temp_theta_one = theta_one - alpha * (1/len(X_train)) * np.sum(((theta_zero + theta_one * X_train) - y_train)*X_train)\n",
    "    \n",
    "    theta_zero = temp_theta_zero \n",
    "    theta_one = temp_theta_one \n",
    "    \n",
    "print('Intercepto con el eje y = ', theta_zero, 'Pendiente de la ecuación = ', theta_one)"
   ]
  },
  {
   "cell_type": "code",
   "execution_count": 195,
   "metadata": {},
   "outputs": [
    {
     "data": {
      "text/plain": [
       "0"
      ]
     },
     "execution_count": 195,
     "metadata": {},
     "output_type": "execute_result"
    }
   ],
   "source": [
    "# y = 2x + 1\n",
    "array_x = np.array([1, 2, 3, 4, 5])\n",
    "array_y = np.array([3, 5, 7, 9, 11])\n",
    "np.sum((2 * array_x + 1 - array_y)**2)"
   ]
  },
  {
   "cell_type": "code",
   "execution_count": 220,
   "metadata": {},
   "outputs": [
    {
     "data": {
      "text/plain": [
       "3.5532282221619217e+25"
      ]
     },
     "execution_count": 220,
     "metadata": {},
     "output_type": "execute_result"
    }
   ],
   "source": [
    "theta_zero = 0.18594729\n",
    "theta_one = -134178.32762218357\n",
    "J = 1/(2*len(X_train)) * np.sum(((theta_zero + theta_one * X_train) - y_train)**2)\n",
    "J"
   ]
  },
  {
   "cell_type": "code",
   "execution_count": 203,
   "metadata": {},
   "outputs": [
    {
     "data": {
      "image/png": "[encoded data removed]",
      "text/plain": [
       "<Figure size 720x720 with 1 Axes>"
      ]
     },
     "metadata": {
      "needs_background": "light"
     },
     "output_type": "display_data"
    }
   ],
   "source": [
    "# Visualize the inputs and predicted values\n",
    "\n",
    "plt.figure(figsize=(10,10))\n",
    "plt.scatter(X_test, y_predic)\n",
    "plt.xlabel('fecha')\n",
    "plt.ylabel('predictions')\n",
    "plt.show()"
   ]
  },
  {
   "cell_type": "code",
   "execution_count": 223,
   "metadata": {},
   "outputs": [
    {
     "name": "stdout",
     "output_type": "stream",
     "text": [
      "Fecha:  [735942] TRM 3294.02\n",
      "Fecha    729620.00\n",
      "TRM        1385.77\n",
      "Name: 1998-08-19 00:00:00, dtype: float64\n",
      "[1492.53382921]\n"
     ]
    }
   ],
   "source": [
    "print('Fecha: ',X_test[0], 'TRM', y_test[0])\n",
    "print(salesBlackFriday.iloc[2457, :])\n",
    "print(regr.predict([[729620]]))"
   ]
  },
  {
   "cell_type": "code",
   "execution_count": 237,
   "metadata": {},
   "outputs": [],
   "source": [
    "%matplotlib inline"
   ]
  },
  {
   "cell_type": "code",
   "execution_count": 252,
   "metadata": {},
   "outputs": [
    {
     "name": "stdout",
     "output_type": "stream",
     "text": [
      "Mean Squared Error: 223277.21\n",
      "Variance score: 0.54\n"
     ]
    }
   ],
   "source": [
    "# coeficiente de determinación\n",
    "# mejor puntuación posible 1\n",
    "\n",
    "from sklearn.metrics import r2_score, mean_squared_error\n",
    "\n",
    "print('Mean Squared Error: %.2f' % mean_squared_error(y_test, y_predic))\n",
    "# Explained variance score: 1 is perfect prediction\n",
    "print('Variance score: %.2f' % r2_score(y_test, y_predic))"
   ]
  },
  {
   "cell_type": "code",
   "execution_count": 253,
   "metadata": {},
   "outputs": [
    {
     "name": "stdout",
     "output_type": "stream",
     "text": [
      "2018-11-23\n",
      "737021\n"
     ]
    }
   ],
   "source": [
    "# calcular la prediccion del dolar para la fecha deseada 23-nov-2018\n",
    "\n",
    "from datetime import datetime as dt\n",
    "d = dt.strptime('2018-11-23', '%Y-%m-%d').date()\n",
    "print(d)\n",
    "\n",
    "print(d.toordinal())"
   ]
  },
  {
   "cell_type": "code",
   "execution_count": 255,
   "metadata": {},
   "outputs": [
    {
     "name": "stdout",
     "output_type": "stream",
     "text": [
      "El valor de la TRM esperado para el Black Friday es: $2869.0 pesos\n"
     ]
    }
   ],
   "source": [
    "trm_bf_2018 = regr.predict([[737021]])\n",
    "print('El valor de la TRM esperado para el Black Friday es: ${} pesos'.format(round(trm_bf_2018[0])))"
   ]
  }
 ],
 "metadata": {
  "kernelspec": {
   "display_name": "Python 3",
   "language": "python",
   "name": "python3"
  },
  "language_info": {
   "codemirror_mode": {
    "name": "ipython",
    "version": 3
   },
   "file_extension": ".py",
   "mimetype": "text/x-python",
   "name": "python",
   "nbconvert_exporter": "python",
   "pygments_lexer": "ipython3",
   "version": "3.7.1"
  }
 },
 "nbformat": 4,
 "nbformat_minor": 2
}
