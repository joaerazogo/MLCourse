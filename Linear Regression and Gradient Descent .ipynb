{
 "cells": [
  {
   "cell_type": "code",
   "execution_count": 2,
   "metadata": {},
   "outputs": [],
   "source": [
    "from __future__ import division\n",
    "import pandas as pd\n",
    "import numpy as np\n",
    "import matplotlib.pyplot as plt\n",
    "import math\n",
    "from sklearn.linear_model import LinearRegression"
   ]
  },
  {
   "cell_type": "code",
   "execution_count": 3,
   "metadata": {},
   "outputs": [
    {
     "data": {
      "image/png": "[encoded data removed]",
      "text/plain": [
       "<Figure size 432x288 with 1 Axes>"
      ]
     },
     "metadata": {
      "needs_background": "light"
     },
     "output_type": "display_data"
    },
    {
     "name": "stdout",
     "output_type": "stream",
     "text": [
      "Slope is 1.1930336441895935\n",
      "Y intercept is -3.8957808783118564\n"
     ]
    }
   ],
   "source": [
    "df = pd.read_csv('C:/Users/JERAZO/Documents/ex1data1.txt', header=None, names=['x','y'])\n",
    "x = df.iloc[:, 0].values.reshape(97, 1)  # values converts it into a numpy array\n",
    "y = df.iloc[:, 1].values.reshape(97, 1) \n",
    "theta = np.zeros((2, 1))\n",
    "\n",
    "vector_x = x.reshape(1, 97)\n",
    "vector_y = y.reshape(1, 97)\n",
    "\n",
    "linear_regressor = LinearRegression()\n",
    "linear_regressor.fit(x, y)\n",
    "Y_predict = linear_regressor.predict(x)\n",
    "plt.scatter(x, y)\n",
    "plt.plot(x, Y_predict, color='red')\n",
    "plt.show()\n",
    "\n",
    "x = np.array(df.x)\n",
    "y = np.array(df.y)\n",
    "\n",
    "#linear regression implementation using libraries\n",
    "\n",
    "(m,b) = np.polyfit(x,y,1)\n",
    "print('Slope is ' + str(m))\n",
    "print('Y intercept is ' + str(b))\n",
    "\n",
    "yp = np.polyval([m,b],x)"
   ]
  },
  {
   "cell_type": "code",
   "execution_count": 38,
   "metadata": {},
   "outputs": [
    {
     "name": "stdout",
     "output_type": "stream",
     "text": [
      "Slope is [1.19303364]\n",
      "Y intercept is [-3.89578087]\n"
     ]
    }
   ],
   "source": [
    "df = pd.read_csv('C:/Users/JERAZO/Documents/ex1data1.txt', header=None, names=['x','y'])\n",
    "x = df['x'].values\n",
    "y = df['y'].values\n",
    "\n",
    "theta = np.zeros((2, 1))\n",
    "iterators = 11000\n",
    "alpha = 0.01\n",
    "temp_theta_1 = 0\n",
    "temp_theta_2 = 0\n",
    "\n",
    "for i in range(0, iterators):\n",
    "    temp_theta_1 = theta[0] - (1/df['x'].size)*alpha * np.sum((theta[0] + theta[1]*x) - y)\n",
    "    temp_theta_2 = theta[1] - (1/df['x'].size)*alpha * np.sum(((theta[0] + theta[1]*x) - y)*x)\n",
    "    \n",
    "    theta[0] = temp_theta_1\n",
    "    theta[1] = temp_theta_2\n",
    "    \n",
    "print('Slope is ' + str(theta[1]))\n",
    "print('Y intercept is ' + str(theta[0]))"
   ]
  },
  {
   "cell_type": "code",
   "execution_count": 39,
   "metadata": {},
   "outputs": [
    {
     "data": {
      "text/plain": [
       "4.476971375975179"
      ]
     },
     "execution_count": 39,
     "metadata": {},
     "output_type": "execute_result"
    }
   ],
   "source": [
    "J = (1/(2 * df['x'].size)) * np.sum(np.power((theta[0] + theta[1]*x) - y, 2))\n",
    "J"
   ]
  }
 ],
 "metadata": {
  "kernelspec": {
   "display_name": "Python 3",
   "language": "python",
   "name": "python3"
  },
  "language_info": {
   "codemirror_mode": {
    "name": "ipython",
    "version": 3
   },
   "file_extension": ".py",
   "mimetype": "text/x-python",
   "name": "python",
   "nbconvert_exporter": "python",
   "pygments_lexer": "ipython3",
   "version": "3.7.0"
  }
 },
 "nbformat": 4,
 "nbformat_minor": 2
}
