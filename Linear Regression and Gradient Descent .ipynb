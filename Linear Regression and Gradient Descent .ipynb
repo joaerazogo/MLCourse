{
 "cells": [
  {
   "cell_type": "code",
   "execution_count": 1,
   "metadata": {},
   "outputs": [],
   "source": [
    "from __future__ import division\n",
    "import pandas as pd\n",
    "import numpy as np\n",
    "import matplotlib.pyplot as plt\n",
    "import math\n",
    "from sklearn.linear_model import LinearRegression\n",
    "from mpl_toolkits.mplot3d import Axes3D"
   ]
  },
  {
   "cell_type": "code",
   "execution_count": 2,
   "metadata": {},
   "outputs": [
    {
     "data": {
      "image/png": "[encoded data removed]",
      "text/plain": [
       "<Figure size 432x288 with 1 Axes>"
      ]
     },
     "metadata": {
      "needs_background": "light"
     },
     "output_type": "display_data"
    },
    {
     "name": "stdout",
     "output_type": "stream",
     "text": [
      "Slope is 1.1930336441895935\n",
      "Y intercept is -3.8957808783118555\n"
     ]
    }
   ],
   "source": [
    "#df = pd.read_csv('C:/Users/JERAZO/Documents/ex1data1.txt', header=None, names=['x','y']) # for windows\n",
    "df = pd.read_csv('/home/jose/MLCourse/datasets/ex1data1.txt', header=None, names=['x','y']) # for ubuntu\n",
    "\n",
    "x = df.iloc[:, 0].values.reshape(97, 1)  # values converts it into a numpy array\n",
    "y = df.iloc[:, 1].values.reshape(97, 1) \n",
    "theta = np.zeros((2, 1))\n",
    "\n",
    "vector_x = x.reshape(1, 97)\n",
    "vector_y = y.reshape(1, 97)\n",
    "\n",
    "linear_regressor = LinearRegression()\n",
    "linear_regressor.fit(x, y)\n",
    "Y_predict = linear_regressor.predict(x)\n",
    "plt.scatter(x, y)\n",
    "plt.plot(x, Y_predict, color='red')\n",
    "plt.show()\n",
    "\n",
    "x = np.array(df.x)\n",
    "y = np.array(df.y)\n",
    "\n",
    "#linear regression implementation using libraries\n",
    "\n",
    "(m,b) = np.polyfit(x,y,1)\n",
    "print('Slope is ' + str(m))\n",
    "print('Y intercept is ' + str(b))\n",
    "\n",
    "yp = np.polyval([m,b],x)"
   ]
  },
  {
   "cell_type": "markdown",
   "metadata": {},
   "source": [
    "# Ahora usaremos el escalamiento de características con y sin normalización media:\n",
    "\n",
    "# 1 - Sin normalización media, con xi = xi/max"
   ]
  },
  {
   "cell_type": "code",
   "execution_count": 3,
   "metadata": {},
   "outputs": [],
   "source": [
    "# sin normalización media\n",
    "\n",
    "vector_x = x.reshape(1, 97)\n",
    "vector_y = y.reshape(1, 97)\n",
    "\n",
    "max_vector_x = vector_x.max()\n",
    "max_vector_y = vector_y.max()\n",
    "\n",
    "sf_vector_x = vector_x / max_vector_x\n",
    "sf_vector_y = vector_y / max_vector_y"
   ]
  },
  {
   "cell_type": "code",
   "execution_count": 4,
   "metadata": {},
   "outputs": [
    {
     "name": "stdout",
     "output_type": "stream",
     "text": [
      "Slope is [1.0969793]\n",
      "Y intercept is [-0.16133341]\n"
     ]
    }
   ],
   "source": [
    "theta = np.zeros((2, 1))\n",
    "iterators = 5000\n",
    "alpha = 0.09\n",
    "temp_theta_1 = 0\n",
    "temp_theta_2 = 0\n",
    "\n",
    "theta_value_intercept = []\n",
    "theta_value_slope = []\n",
    "cost_function_j = []\n",
    "\n",
    "for i in range(0, iterators):\n",
    "    temp_theta_1 = theta[0] - (1/sf_vector_x.size)*alpha * np.sum((theta[0] + theta[1]*sf_vector_x) - sf_vector_y)\n",
    "    temp_theta_2 = theta[1] - (1/sf_vector_x.size)*alpha * np.sum(((theta[0] + theta[1]*sf_vector_x) - sf_vector_y)*sf_vector_x)\n",
    "       \n",
    "    #actualizamos theta\n",
    "    theta[0] = temp_theta_1\n",
    "    theta[1] = temp_theta_2\n",
    "    \n",
    "    theta_value_intercept.append(temp_theta_1)\n",
    "    theta_value_slope.append(temp_theta_2)\n",
    "    cost_function_j.append((1/(2 * sf_vector_x.size)) * np.sum(np.power((theta[0] + theta[1]*sf_vector_x) - sf_vector_y, 2)))\n",
    "    \n",
    "print('Slope is ' + str(theta[1]))\n",
    "print('Y intercept is ' + str(theta[0]))"
   ]
  },
  {
   "cell_type": "code",
   "execution_count": 5,
   "metadata": {},
   "outputs": [
    {
     "data": {
      "text/plain": [
       "0.00767817406686846"
      ]
     },
     "execution_count": 5,
     "metadata": {},
     "output_type": "execute_result"
    }
   ],
   "source": [
    "J = (1/(2 * sf_vector_x.size)) * np.sum(np.power((theta[0] + theta[1]*sf_vector_x) - sf_vector_y, 2))\n",
    "J"
   ]
  },
  {
   "cell_type": "code",
   "execution_count": 6,
   "metadata": {},
   "outputs": [
    {
     "data": {
      "text/plain": [
       "(-0.5, 1)"
      ]
     },
     "execution_count": 6,
     "metadata": {},
     "output_type": "execute_result"
    },
    {
     "data": {
      "image/png": "[encoded data removed]",
      "text/plain": [
       "<Figure size 432x288 with 1 Axes>"
      ]
     },
     "metadata": {
      "needs_background": "light"
     },
     "output_type": "display_data"
    }
   ],
   "source": [
    "y_predict = theta[0] + theta[1] * sf_vector_x\n",
    "y_predict.reshape(97)\n",
    "plt.scatter(sf_vector_x, sf_vector_y)\n",
    "plt.plot(sf_vector_x.reshape(97), y_predict.reshape(97), color='red', markersize=20)\n",
    "ax = plt.gca()\n",
    "ax.set_ylim([-0.5, 1])"
   ]
  },
  {
   "cell_type": "code",
   "execution_count": 7,
   "metadata": {},
   "outputs": [],
   "source": [
    "# Graficamos la función de costo\n",
    "cost_function = []\n",
    "for i in range(0, sf_vector_x.size):\n",
    "    cost_function.append((1/(2 * sf_vector_x[0][i])) * np.sum(np.power((theta[0] + theta[1]*sf_vector_x[0][i]) - sf_vector_y[0][i], 2)))\n",
    "cost_function = np.array(cost_function)"
   ]
  },
  {
   "cell_type": "code",
   "execution_count": 8,
   "metadata": {},
   "outputs": [
    {
     "data": {
      "text/plain": [
       "[<matplotlib.lines.Line2D at 0x7f4974952d50>]"
      ]
     },
     "execution_count": 8,
     "metadata": {},
     "output_type": "execute_result"
    },
    {
     "data": {
      "image/png": "[encoded data removed]",
      "text/plain": [
       "<Figure size 432x288 with 1 Axes>"
      ]
     },
     "metadata": {
      "needs_background": "light"
     },
     "output_type": "display_data"
    }
   ],
   "source": [
    "plt.plot(cost_function)"
   ]
  },
  {
   "cell_type": "markdown",
   "metadata": {},
   "source": [
    "# 2 - con normalización media, sería a ser xi = (xi - promedio (característica)) / (max (característica) - min(característica))"
   ]
  },
  {
   "cell_type": "code",
   "execution_count": 9,
   "metadata": {},
   "outputs": [],
   "source": [
    "# sin normalización media\n",
    "\n",
    "vector_x = x.reshape(1, 97)\n",
    "vector_y = y.reshape(1, 97)\n",
    "\n",
    "max_vector_x = vector_x.max()\n",
    "max_vector_y = vector_y.max()\n",
    "\n",
    "min_vector_x = vector_x.min()\n",
    "min_vector_y = vector_y.min()\n",
    "\n",
    "divendo_x = max_vector_x - min_vector_x\n",
    "divendo_y = max_vector_y - min_vector_y\n",
    "\n",
    "sf_vector_x = vector_x - (np.sum(vector_x)/vector_x.size)/ divendo_x\n",
    "sf_vector_y = vector_y - (np.sum(vector_y)/vector_y.size)/ divendo_y"
   ]
  },
  {
   "cell_type": "code",
   "execution_count": 10,
   "metadata": {},
   "outputs": [
    {
     "name": "stdout",
     "output_type": "stream",
     "text": [
      "Slope is [1.19303364]\n",
      "Y intercept is [-3.54666305]\n"
     ]
    }
   ],
   "source": [
    "theta = np.zeros((2, 1))\n",
    "iterators = 10000\n",
    "alpha = 0.01\n",
    "temp_theta_1 = 0\n",
    "temp_theta_2 = 0\n",
    "\n",
    "theta_value_intercept = []\n",
    "theta_value_slope = []\n",
    "cost_function_j = []\n",
    "\n",
    "for i in range(0, iterators):\n",
    "    temp_theta_1 = theta[0] - (1/sf_vector_x.size)*alpha * np.sum((theta[0] + theta[1]*sf_vector_x) - sf_vector_y)\n",
    "    temp_theta_2 = theta[1] - (1/sf_vector_x.size)*alpha * np.sum(((theta[0] + theta[1]*sf_vector_x) - sf_vector_y)*sf_vector_x)\n",
    "       \n",
    "    #actualizamos theta\n",
    "    theta[0] = temp_theta_1\n",
    "    theta[1] = temp_theta_2\n",
    "    \n",
    "    theta_value_intercept.append(temp_theta_1)\n",
    "    theta_value_slope.append(temp_theta_2)\n",
    "    cost_function_j.append((1/(2 * sf_vector_x.size)) * np.sum(np.power((theta[0] + theta[1]*sf_vector_x) - sf_vector_y, 2)))\n",
    "    \n",
    "print('Slope is ' + str(theta[1]))\n",
    "print('Y intercept is ' + str(theta[0]))"
   ]
  },
  {
   "cell_type": "code",
   "execution_count": 11,
   "metadata": {},
   "outputs": [
    {
     "data": {
      "text/plain": [
       "4.476971375975179"
      ]
     },
     "execution_count": 11,
     "metadata": {},
     "output_type": "execute_result"
    }
   ],
   "source": [
    "J = (1/(2 * sf_vector_x.size)) * np.sum(np.power((theta[0] + theta[1]*sf_vector_x) - sf_vector_y, 2))\n",
    "J"
   ]
  },
  {
   "cell_type": "code",
   "execution_count": 12,
   "metadata": {},
   "outputs": [
    {
     "data": {
      "text/plain": [
       "[<matplotlib.lines.Line2D at 0x7f4974916110>]"
      ]
     },
     "execution_count": 12,
     "metadata": {},
     "output_type": "execute_result"
    },
    {
     "data": {
      "image/png": "[encoded data removed]",
      "text/plain": [
       "<Figure size 432x288 with 1 Axes>"
      ]
     },
     "metadata": {
      "needs_background": "light"
     },
     "output_type": "display_data"
    }
   ],
   "source": [
    "y_predict = theta[0] + theta[1] * sf_vector_x\n",
    "y_predict.reshape(97)\n",
    "plt.scatter(sf_vector_x, sf_vector_y)\n",
    "plt.plot(sf_vector_x.reshape(97), y_predict.reshape(97), color='red')"
   ]
  },
  {
   "cell_type": "code",
   "execution_count": 13,
   "metadata": {},
   "outputs": [],
   "source": [
    "# Graficamos la función de costo\n",
    "cost_function = []\n",
    "for i in range(0, sf_vector_x.size):\n",
    "    cost_function.append((1/(2 * sf_vector_x[0][i])) * np.sum(np.power((theta[0] + theta[1]*sf_vector_x[0][i]) - sf_vector_y[0][i], 2)))\n",
    "cost_function = np.array(cost_function)"
   ]
  },
  {
   "cell_type": "code",
   "execution_count": 14,
   "metadata": {},
   "outputs": [
    {
     "data": {
      "text/plain": [
       "[<matplotlib.lines.Line2D at 0x7f4974b63250>]"
      ]
     },
     "execution_count": 14,
     "metadata": {},
     "output_type": "execute_result"
    },
    {
     "data": {
      "image/png": "[encoded data removed]",
      "text/plain": [
       "<Figure size 432x288 with 1 Axes>"
      ]
     },
     "metadata": {
      "needs_background": "light"
     },
     "output_type": "display_data"
    }
   ],
   "source": [
    "plt.plot(cost_function)"
   ]
  },
  {
   "cell_type": "markdown",
   "metadata": {},
   "source": [
    "# Sin implementar escalamiento de características"
   ]
  },
  {
   "cell_type": "code",
   "execution_count": 16,
   "metadata": {},
   "outputs": [
    {
     "name": "stdout",
     "output_type": "stream",
     "text": [
      "Slope is [1.19303364]\n",
      "Y intercept is [-3.89578087]\n"
     ]
    }
   ],
   "source": [
    "#df = pd.read_csv('C:/Users/JERAZO/Documents/ex1data1.txt', header=None, names=['x','y']) # for windows\n",
    "df = pd.read_csv('/home/jose/MLCourse/datasets/ex1data1.txt', header=None, names=['x','y']) # for ubuntu\n",
    "x = df['x'].values\n",
    "y = df['y'].values\n",
    "\n",
    "theta = np.zeros((2, 1))\n",
    "iterators = 11000\n",
    "alpha = 0.01\n",
    "temp_theta_1 = 0\n",
    "temp_theta_2 = 0\n",
    "\n",
    "for i in range(0, iterators):\n",
    "    temp_theta_1 = theta[0] - (1/df['x'].size)*alpha * np.sum((theta[0] + theta[1]*x) - y)\n",
    "    temp_theta_2 = theta[1] - (1/df['x'].size)*alpha * np.sum(((theta[0] + theta[1]*x) - y)*x)\n",
    "    \n",
    "    theta[0] = temp_theta_1\n",
    "    theta[1] = temp_theta_2\n",
    "    \n",
    "print('Slope is ' + str(theta[1]))\n",
    "print('Y intercept is ' + str(theta[0]))"
   ]
  },
  {
   "cell_type": "code",
   "execution_count": 17,
   "metadata": {},
   "outputs": [
    {
     "data": {
      "text/plain": [
       "4.476971375975179"
      ]
     },
     "execution_count": 17,
     "metadata": {},
     "output_type": "execute_result"
    }
   ],
   "source": [
    "J = (1/(2 * df['x'].size)) * np.sum(np.power((theta[0] + theta[1]*x) - y, 2))\n",
    "J"
   ]
  },
  {
   "cell_type": "markdown",
   "metadata": {},
   "source": [
    "# Regresión lineal múltiple"
   ]
  },
  {
   "cell_type": "code",
   "execution_count": 19,
   "metadata": {},
   "outputs": [],
   "source": [
    "# for import datasets\n",
    "from sklearn import datasets\n",
    "data = datasets.load_boston() #load boston dataset\n",
    "dataBoston = pd.DataFrame(data.data, columns=data.feature_names)\n",
    "target = pd.DataFrame(data.target, columns=[\"MEDV\"])"
   ]
  },
  {
   "cell_type": "code",
   "execution_count": 20,
   "metadata": {},
   "outputs": [
    {
     "name": "stderr",
     "output_type": "stream",
     "text": [
      "/home/jose/anaconda3/lib/python3.7/site-packages/statsmodels/compat/pandas.py:49: FutureWarning: The Panel class is removed from pandas. Accessing it from the top-level namespace will also be removed in the next version\n",
      "  data_klasses = (pandas.Series, pandas.DataFrame, pandas.Panel)\n"
     ]
    },
    {
     "ename": "ImportError",
     "evalue": "cannot import name 'factorial' from 'scipy.misc' (/home/jose/anaconda3/lib/python3.7/site-packages/scipy/misc/__init__.py)",
     "output_type": "error",
     "traceback": [
      "\u001b[0;31m---------------------------------------------------------------------------\u001b[0m",
      "\u001b[0;31mImportError\u001b[0m                               Traceback (most recent call last)",
      "\u001b[0;32m<ipython-input-20-e007a839a756>\u001b[0m in \u001b[0;36m<module>\u001b[0;34m\u001b[0m\n\u001b[0;32m----> 1\u001b[0;31m \u001b[0;32mimport\u001b[0m \u001b[0mstatsmodels\u001b[0m\u001b[0;34m.\u001b[0m\u001b[0mapi\u001b[0m \u001b[0;32mas\u001b[0m \u001b[0msm\u001b[0m\u001b[0;34m\u001b[0m\u001b[0;34m\u001b[0m\u001b[0m\n\u001b[0m\u001b[1;32m      2\u001b[0m \u001b[0mX\u001b[0m \u001b[0;34m=\u001b[0m \u001b[0mdataBoston\u001b[0m\u001b[0;34m[\u001b[0m\u001b[0;34m\"RM\"\u001b[0m\u001b[0;34m]\u001b[0m\u001b[0;34m\u001b[0m\u001b[0;34m\u001b[0m\u001b[0m\n\u001b[1;32m      3\u001b[0m \u001b[0my\u001b[0m \u001b[0;34m=\u001b[0m \u001b[0mtarget\u001b[0m\u001b[0;34m[\u001b[0m\u001b[0;34m\"MEDV\"\u001b[0m\u001b[0;34m]\u001b[0m\u001b[0;34m\u001b[0m\u001b[0;34m\u001b[0m\u001b[0m\n\u001b[1;32m      4\u001b[0m \u001b[0;34m\u001b[0m\u001b[0m\n\u001b[1;32m      5\u001b[0m \u001b[0;31m#Note the difference in argument model\u001b[0m\u001b[0;34m\u001b[0m\u001b[0;34m\u001b[0m\u001b[0;34m\u001b[0m\u001b[0m\n",
      "\u001b[0;32m~/anaconda3/lib/python3.7/site-packages/statsmodels/api.py\u001b[0m in \u001b[0;36m<module>\u001b[0;34m\u001b[0m\n\u001b[1;32m     14\u001b[0m \u001b[0;32mfrom\u001b[0m \u001b[0;34m.\u001b[0m \u001b[0;32mimport\u001b[0m \u001b[0mrobust\u001b[0m\u001b[0;34m\u001b[0m\u001b[0;34m\u001b[0m\u001b[0m\n\u001b[1;32m     15\u001b[0m \u001b[0;32mfrom\u001b[0m \u001b[0;34m.\u001b[0m\u001b[0mrobust\u001b[0m\u001b[0;34m.\u001b[0m\u001b[0mrobust_linear_model\u001b[0m \u001b[0;32mimport\u001b[0m \u001b[0mRLM\u001b[0m\u001b[0;34m\u001b[0m\u001b[0;34m\u001b[0m\u001b[0m\n\u001b[0;32m---> 16\u001b[0;31m from .discrete.discrete_model import (Poisson, Logit, Probit,\n\u001b[0m\u001b[1;32m     17\u001b[0m                                       \u001b[0mMNLogit\u001b[0m\u001b[0;34m,\u001b[0m \u001b[0mNegativeBinomial\u001b[0m\u001b[0;34m,\u001b[0m\u001b[0;34m\u001b[0m\u001b[0;34m\u001b[0m\u001b[0m\n\u001b[1;32m     18\u001b[0m                                       \u001b[0mGeneralizedPoisson\u001b[0m\u001b[0;34m,\u001b[0m\u001b[0;34m\u001b[0m\u001b[0;34m\u001b[0m\u001b[0m\n",
      "\u001b[0;32m~/anaconda3/lib/python3.7/site-packages/statsmodels/discrete/discrete_model.py\u001b[0m in \u001b[0;36m<module>\u001b[0;34m\u001b[0m\n\u001b[1;32m     43\u001b[0m \u001b[0;34m\u001b[0m\u001b[0m\n\u001b[1;32m     44\u001b[0m \u001b[0;32mfrom\u001b[0m \u001b[0mstatsmodels\u001b[0m\u001b[0;34m.\u001b[0m\u001b[0mbase\u001b[0m\u001b[0;34m.\u001b[0m\u001b[0ml1_slsqp\u001b[0m \u001b[0;32mimport\u001b[0m \u001b[0mfit_l1_slsqp\u001b[0m\u001b[0;34m\u001b[0m\u001b[0;34m\u001b[0m\u001b[0m\n\u001b[0;32m---> 45\u001b[0;31m \u001b[0;32mfrom\u001b[0m \u001b[0mstatsmodels\u001b[0m\u001b[0;34m.\u001b[0m\u001b[0mdistributions\u001b[0m \u001b[0;32mimport\u001b[0m \u001b[0mgenpoisson_p\u001b[0m\u001b[0;34m\u001b[0m\u001b[0;34m\u001b[0m\u001b[0m\n\u001b[0m\u001b[1;32m     46\u001b[0m \u001b[0;34m\u001b[0m\u001b[0m\n\u001b[1;32m     47\u001b[0m \u001b[0;32mtry\u001b[0m\u001b[0;34m:\u001b[0m\u001b[0;34m\u001b[0m\u001b[0;34m\u001b[0m\u001b[0m\n",
      "\u001b[0;32m~/anaconda3/lib/python3.7/site-packages/statsmodels/distributions/__init__.py\u001b[0m in \u001b[0;36m<module>\u001b[0;34m\u001b[0m\n\u001b[1;32m      1\u001b[0m \u001b[0;32mfrom\u001b[0m \u001b[0;34m.\u001b[0m\u001b[0mempirical_distribution\u001b[0m \u001b[0;32mimport\u001b[0m \u001b[0mECDF\u001b[0m\u001b[0;34m,\u001b[0m \u001b[0mmonotone_fn_inverter\u001b[0m\u001b[0;34m,\u001b[0m \u001b[0mStepFunction\u001b[0m\u001b[0;34m\u001b[0m\u001b[0;34m\u001b[0m\u001b[0m\n\u001b[0;32m----> 2\u001b[0;31m \u001b[0;32mfrom\u001b[0m \u001b[0;34m.\u001b[0m\u001b[0medgeworth\u001b[0m \u001b[0;32mimport\u001b[0m \u001b[0mExpandedNormal\u001b[0m\u001b[0;34m\u001b[0m\u001b[0;34m\u001b[0m\u001b[0m\n\u001b[0m\u001b[1;32m      3\u001b[0m \u001b[0;32mfrom\u001b[0m \u001b[0;34m.\u001b[0m\u001b[0mdiscrete\u001b[0m \u001b[0;32mimport\u001b[0m \u001b[0mgenpoisson_p\u001b[0m\u001b[0;34m,\u001b[0m \u001b[0mzipoisson\u001b[0m\u001b[0;34m,\u001b[0m \u001b[0mzigenpoisson\u001b[0m\u001b[0;34m,\u001b[0m \u001b[0mzinegbin\u001b[0m\u001b[0;34m\u001b[0m\u001b[0;34m\u001b[0m\u001b[0m\n",
      "\u001b[0;32m~/anaconda3/lib/python3.7/site-packages/statsmodels/distributions/edgeworth.py\u001b[0m in \u001b[0;36m<module>\u001b[0;34m\u001b[0m\n\u001b[1;32m      5\u001b[0m \u001b[0;32mimport\u001b[0m \u001b[0mnumpy\u001b[0m \u001b[0;32mas\u001b[0m \u001b[0mnp\u001b[0m\u001b[0;34m\u001b[0m\u001b[0;34m\u001b[0m\u001b[0m\n\u001b[1;32m      6\u001b[0m \u001b[0;32mfrom\u001b[0m \u001b[0mnumpy\u001b[0m\u001b[0;34m.\u001b[0m\u001b[0mpolynomial\u001b[0m\u001b[0;34m.\u001b[0m\u001b[0mhermite_e\u001b[0m \u001b[0;32mimport\u001b[0m \u001b[0mHermiteE\u001b[0m\u001b[0;34m\u001b[0m\u001b[0;34m\u001b[0m\u001b[0m\n\u001b[0;32m----> 7\u001b[0;31m \u001b[0;32mfrom\u001b[0m \u001b[0mscipy\u001b[0m\u001b[0;34m.\u001b[0m\u001b[0mmisc\u001b[0m \u001b[0;32mimport\u001b[0m \u001b[0mfactorial\u001b[0m\u001b[0;34m\u001b[0m\u001b[0;34m\u001b[0m\u001b[0m\n\u001b[0m\u001b[1;32m      8\u001b[0m \u001b[0;32mfrom\u001b[0m \u001b[0mscipy\u001b[0m\u001b[0;34m.\u001b[0m\u001b[0mstats\u001b[0m \u001b[0;32mimport\u001b[0m \u001b[0mrv_continuous\u001b[0m\u001b[0;34m\u001b[0m\u001b[0;34m\u001b[0m\u001b[0m\n\u001b[1;32m      9\u001b[0m \u001b[0;32mimport\u001b[0m \u001b[0mscipy\u001b[0m\u001b[0;34m.\u001b[0m\u001b[0mspecial\u001b[0m \u001b[0;32mas\u001b[0m \u001b[0mspecial\u001b[0m\u001b[0;34m\u001b[0m\u001b[0;34m\u001b[0m\u001b[0m\n",
      "\u001b[0;31mImportError\u001b[0m: cannot import name 'factorial' from 'scipy.misc' (/home/jose/anaconda3/lib/python3.7/site-packages/scipy/misc/__init__.py)"
     ]
    }
   ],
   "source": [
    "import statsmodels.api as sm\n",
    "X = dataBoston[\"RM\"]\n",
    "y = target[\"MEDV\"]\n",
    "\n",
    "#Note the difference in argument model\n",
    "model = sm.OLS(y, X).fit()\n",
    "predictions = mode.predict(X) #Mak<e the predictions by the model\n",
    "\n",
    "# print out the statistics\n",
    "model.summary()"
   ]
  },
  {
   "cell_type": "code",
   "execution_count": 21,
   "metadata": {},
   "outputs": [
    {
     "name": "stdout",
     "output_type": "stream",
     "text": [
      "The coeficients are:  [-1.08011358e-01  4.64204584e-02  2.05586264e-02  2.68673382e+00\n",
      " -1.77666112e+01  3.80986521e+00  6.92224640e-04 -1.47556685e+00\n",
      "  3.06049479e-01 -1.23345939e-02 -9.52747232e-01  9.31168327e-03\n",
      " -5.24758378e-01]\n",
      "The intercept is:  36.45948838509045\n"
     ]
    }
   ],
   "source": [
    "from sklearn import linear_model\n",
    "from sklearn import datasets # for import datasets\n",
    "\n",
    "data = datasets.load_boston() #load boston dataset\n",
    "dataBoston = pd.DataFrame(data.data, columns=data.feature_names)\n",
    "target = pd.DataFrame(data.target, columns=[\"MEDV\"])\n",
    "\n",
    "X = dataBoston\n",
    "y = target[\"MEDV\"]\n",
    "\n",
    "lm = linear_model.LinearRegression()\n",
    "model = lm.fit(X,y)\n",
    "predictions = lm.predict(X)\n",
    "lm.score(X,y)\n",
    "print('The coeficients are: ', lm.coef_)\n",
    "print('The intercept is: ', lm.intercept_)"
   ]
  },
  {
   "cell_type": "markdown",
   "metadata": {},
   "source": [
    "# 1 - Sin escalamiento de caracteristicas"
   ]
  },
  {
   "cell_type": "code",
   "execution_count": 22,
   "metadata": {},
   "outputs": [
    {
     "data": {
      "text/plain": [
       "(506, 13)"
      ]
     },
     "execution_count": 22,
     "metadata": {},
     "output_type": "execute_result"
    }
   ],
   "source": [
    "dataBoston.columns #show the columns\n",
    "dataBoston.shape #show the form"
   ]
  },
  {
   "cell_type": "code",
   "execution_count": 23,
   "metadata": {},
   "outputs": [
    {
     "name": "stdout",
     "output_type": "stream",
     "text": [
      "intercept is (theta_0)[0.00037695]\n",
      "The Slope is (theta_1)[-0.00450809]\n",
      "The Slope is (theta_2)[0.02486327]\n",
      "The Slope is (theta_3)[-0.00319939]\n",
      "The Slope is (theta_4)[0.0001658]\n",
      "The Slope is (theta_5)[0.00011401]\n",
      "The Slope is (theta_6)[0.00397541]\n",
      "The Slope is (theta_7)[0.00235446]\n",
      "The Slope is (theta_8)[0.00209448]\n",
      "The Slope is (theta_9)[-0.00141023]\n",
      "The Slope is (theta_10)[-0.00023739]\n",
      "The Slope is (theta_11)[0.00367669]\n",
      "The Slope is (theta_12)[0.0605809]\n",
      "The Slope is (theta_13)[-0.00933726]\n"
     ]
    }
   ],
   "source": [
    "x = dataBoston.values\n",
    "y = target.values\n",
    "\n",
    "theta = np.zeros((dataBoston.shape[1] + 1, 1))\n",
    "iterators = 1000\n",
    "alpha = 0.0000004\n",
    "temp_theta_1 = 0\n",
    "temp_theta_2 = 0\n",
    "t = []\n",
    "\n",
    "for i in range(0, iterators):\n",
    "\n",
    "    for j in range(0, dataBoston.shape[0]):\n",
    "        t.append(np.sum([theta[1] * x[j,0], \n",
    "                 theta[2] * x[j,1], \n",
    "                 theta[3] * x[j,2], \n",
    "                 theta[4] * x[j,3], \n",
    "                 theta[5] * x[j,4], \n",
    "                 theta[6] * x[j,5], \n",
    "                 theta[7] * x[j,6], \n",
    "                 theta[8] * x[j,7], \n",
    "                 theta[9] * x[j,8], \n",
    "                 theta[10] * x[j,9],\n",
    "                 theta[11] * x[j,10],\n",
    "                 theta[12] * x[j,11],\n",
    "                 theta[13] * x[j,12]]))\n",
    "                 \n",
    "    s = np.array(t).reshape(506,1)\n",
    "\n",
    "    temp_theta_1 = theta[0] - (1/dataBoston.shape[0])*alpha * np.sum((theta[0] + s) - y)\n",
    "    temp_theta_2 = theta[1] - (1/dataBoston.shape[0])*alpha * np.sum(((theta[0] + s) - y)*x[:,0].reshape(506, 1))\n",
    "    temp_theta_3 = theta[2] - (1/dataBoston.shape[0])*alpha * np.sum(((theta[0] + s) - y)*x[:,1].reshape(506, 1))\n",
    "    temp_theta_4 = theta[3] - (1/dataBoston.shape[0])*alpha * np.sum(((theta[0] + s) - y)*x[:,2].reshape(506, 1))\n",
    "    temp_theta_5 = theta[4] - (1/dataBoston.shape[0])*alpha * np.sum(((theta[0] + s) - y)*x[:,3].reshape(506, 1))\n",
    "    temp_theta_6 = theta[5] - (1/dataBoston.shape[0])*alpha * np.sum(((theta[0] + s) - y)*x[:,4].reshape(506, 1))\n",
    "    temp_theta_7 = theta[6] - (1/dataBoston.shape[0])*alpha * np.sum(((theta[0] + s) - y)*x[:,5].reshape(506, 1))\n",
    "    temp_theta_8 = theta[7] - (1/dataBoston.shape[0])*alpha * np.sum(((theta[0] + s) - y)*x[:,6].reshape(506, 1))\n",
    "    temp_theta_9 = theta[8] - (1/dataBoston.shape[0])*alpha * np.sum(((theta[0] + s) - y)*x[:,7].reshape(506, 1))\n",
    "    temp_theta_10 = theta[9] - (1/dataBoston.shape[0])*alpha * np.sum(((theta[0] + s) - y)*x[:,8].reshape(506, 1))\n",
    "    temp_theta_11 = theta[10] - (1/dataBoston.shape[0])*alpha * np.sum(((theta[0] + s) - y)*x[:,9].reshape(506, 1))\n",
    "    temp_theta_12 = theta[11] - (1/dataBoston.shape[0])*alpha * np.sum(((theta[0] + s) - y)*x[:,10].reshape(506, 1))\n",
    "    temp_theta_13 = theta[12] - (1/dataBoston.shape[0])*alpha * np.sum(((theta[0] + s) - y)*x[:,11].reshape(506, 1))\n",
    "    temp_theta_14 = theta[13] - (1/dataBoston.shape[0])*alpha * np.sum(((theta[0] + s) - y)*x[:,12].reshape(506, 1))\n",
    "\n",
    "    theta[0] = temp_theta_1\n",
    "    theta[1] = temp_theta_2\n",
    "    theta[2] = temp_theta_3\n",
    "    theta[3] = temp_theta_4\n",
    "    theta[4] = temp_theta_5\n",
    "    theta[5] = temp_theta_6\n",
    "    theta[6] = temp_theta_7\n",
    "    theta[7] = temp_theta_8\n",
    "    theta[8] = temp_theta_9\n",
    "    theta[9] = temp_theta_10\n",
    "    theta[10] = temp_theta_11\n",
    "    theta[11] = temp_theta_12\n",
    "    theta[12] = temp_theta_13\n",
    "    theta[13] = temp_theta_14\n",
    "    \n",
    "    t.clear()\n",
    "\n",
    "print('intercept is (theta_0)' + str(theta[0]))\n",
    "print('The Slope is (theta_1)' + str(theta[1]))\n",
    "print('The Slope is (theta_2)' + str(theta[2]))\n",
    "print('The Slope is (theta_3)' + str(theta[3]))\n",
    "print('The Slope is (theta_4)' + str(theta[4]))\n",
    "print('The Slope is (theta_5)' + str(theta[5]))\n",
    "print('The Slope is (theta_6)' + str(theta[6]))\n",
    "print('The Slope is (theta_7)' + str(theta[7]))\n",
    "print('The Slope is (theta_8)' + str(theta[8]))\n",
    "print('The Slope is (theta_9)' + str(theta[9]))\n",
    "print('The Slope is (theta_10)' + str(theta[10]))\n",
    "print('The Slope is (theta_11)' + str(theta[11]))\n",
    "print('The Slope is (theta_12)' + str(theta[12]))\n",
    "print('The Slope is (theta_13)' + str(theta[13]))\n"
   ]
  },
  {
   "cell_type": "code",
   "execution_count": 24,
   "metadata": {},
   "outputs": [
    {
     "data": {
      "text/plain": [
       "0.14860992277236637"
      ]
     },
     "execution_count": 24,
     "metadata": {},
     "output_type": "execute_result"
    }
   ],
   "source": [
    "for i in range(0, dataBoston.shape[0]):\n",
    "    \n",
    "    s = np.sum([theta[1] * x[j,0], \n",
    "                 theta[2] * x[j,1],\n",
    "                 theta[3] * x[j,2],\n",
    "                 theta[4] * x[j,3], \n",
    "                 theta[5] * x[j,4], \n",
    "                 theta[6] * x[j,5], \n",
    "                 theta[7] * x[j,6], \n",
    "                 theta[8] * x[j,7], \n",
    "                 theta[9] * x[j,8], \n",
    "                 theta[10] * x[j,9], \n",
    "                 theta[11] * x[j,10],\n",
    "                 theta[12] * x[j,11],\n",
    "                 theta[13] * x[j,12]])\n",
    "    \n",
    "    J = (1/(2 * dataBoston.shape[0])) * np.sum(np.power((theta[0] + s) - y[j], 2))\n",
    "J"
   ]
  },
  {
   "cell_type": "code",
   "execution_count": 25,
   "metadata": {},
   "outputs": [
    {
     "data": {
      "text/plain": [
       "0.1077881134864717"
      ]
     },
     "execution_count": 25,
     "metadata": {},
     "output_type": "execute_result"
    }
   ],
   "source": [
    "#Con valores que nos dio las funciones slope e intercept\n",
    "\n",
    "for j in range(0, dataBoston.shape[0]):\n",
    "    \n",
    "    s = np.sum([ -1.08011358e-01 * x[j,0], \n",
    "                 4.64204584e-02 * x[j,1],\n",
    "                 2.05586264e-02 * x[j,2],\n",
    "                 2.68673382e+00 * x[j,3], \n",
    "                 -1.77666112e+01 * x[j,4], \n",
    "                 3.80986521e+00 * x[j,5], \n",
    "                 6.92224640e-04 * x[j,6], \n",
    "                 -1.47556685e+00 * x[j,7], \n",
    "                 3.06049479e-01 * x[j,8], \n",
    "                 -1.23345939e-02 * x[j,9], \n",
    "                 -9.52747232e-01 * x[j,10],\n",
    "                 9.31168327e-03 * x[j,11],\n",
    "                 -5.24758378e-01 * x[j,12]])\n",
    "    \n",
    "    J = (1/(2 * dataBoston.shape[0])) * np.sum(np.power((36.45948838509045 + s) - y[j], 2))\n",
    "J"
   ]
  },
  {
   "cell_type": "markdown",
   "metadata": {},
   "source": [
    "# 2 - Sin normalización media, con xi = xi/max"
   ]
  },
  {
   "cell_type": "code",
   "execution_count": 26,
   "metadata": {},
   "outputs": [],
   "source": [
    "vector_x_CRIM = x[:,0].reshape(1, 506)\n",
    "vector_x_ZN = x[:,1].reshape(1, 506)\n",
    "vector_x_INDUS = x[:,2].reshape(1, 506)\n",
    "vector_x_CHAS = x[:,3].reshape(1, 506)\n",
    "vector_x_NOX = x[:,4].reshape(1, 506)\n",
    "vector_x_RM = x[:,5].reshape(1, 506)\n",
    "vector_x_AGE = x[:,6].reshape(1, 506)\n",
    "vector_x_DIS = x[:,7].reshape(1, 506)\n",
    "vector_x_RAD = x[:,8].reshape(1, 506)\n",
    "vector_x_TAX = x[:,9].reshape(1, 506)\n",
    "vector_x_PTRATIO = x[:,10].reshape(1, 506)\n",
    "vector_x_B = x[:,11].reshape(1, 506)\n",
    "vector_x_LSTAT = x[:,12].reshape(1, 506)\n",
    "vector_y = y.reshape(1, 506)\n",
    "\n",
    "max_vector_x_CRIM = vector_x_CRIM.max()\n",
    "max_vector_x_ZN = vector_x_ZN.max()\n",
    "max_vector_x_INDUS = vector_x_INDUS.max()\n",
    "max_vector_x_CHAS = vector_x_CHAS.max()\n",
    "max_vector_x_NOX = vector_x_NOX.max()\n",
    "max_vector_x_RM = vector_x_RM.max()\n",
    "max_vector_x_AGE = vector_x_AGE.max()\n",
    "max_vector_x_DIS = vector_x_DIS.max()\n",
    "max_vector_x_RAD = vector_x_RAD.max()\n",
    "max_vector_x_TAX = vector_x_TAX.max()\n",
    "max_vector_x_PTRATIO = vector_x_PTRATIO.max()\n",
    "max_vector_x_B = vector_x_B.max()\n",
    "max_vector_x_LSTAT = vector_x_LSTAT.max()\n",
    "max_vector_y = vector_y.max()\n",
    "\n",
    "max_values = np.array([max_vector_x_CRIM, max_vector_x_ZN, max_vector_x_INDUS, max_vector_x_CHAS, max_vector_x_NOX, max_vector_x_RM, max_vector_x_AGE, max_vector_x_DIS, max_vector_x_RAD, max_vector_x_TAX, max_vector_x_PTRATIO, max_vector_x_B, max_vector_x_LSTAT])\n",
    "sf_vector_y = vector_y/max_vector_y"
   ]
  },
  {
   "cell_type": "code",
   "execution_count": 27,
   "metadata": {},
   "outputs": [
    {
     "name": "stdout",
     "output_type": "stream",
     "text": [
      "intercept is (theta_0)[0.00026832]\n",
      "The Slope is (theta_1)[0.00551386]\n",
      "The Slope is (theta_2)[0.01542822]\n",
      "The Slope is (theta_3)[0.05450691]\n",
      "The Slope is (theta_4)[0.00939109]\n",
      "The Slope is (theta_5)[0.08646385]\n",
      "The Slope is (theta_6)[0.09718157]\n",
      "The Slope is (theta_7)[0.09310299]\n",
      "The Slope is (theta_8)[0.0424893]\n",
      "The Slope is (theta_9)[0.05402112]\n",
      "The Slope is (theta_10)[0.07795453]\n",
      "The Slope is (theta_11)[0.11389439]\n",
      "The Slope is (theta_12)[0.12200814]\n",
      "The Slope is (theta_13)[0.04524322]\n"
     ]
    }
   ],
   "source": [
    "x = dataBoston.values\n",
    "y = target.values\n",
    "\n",
    "theta = np.zeros((dataBoston.shape[1] + 1, 1))\n",
    "iterators = 1000\n",
    "alpha = 0.0002\n",
    "temp_theta_1 = 0\n",
    "temp_theta_2 = 0\n",
    "t = []\n",
    "\n",
    "for i in range(0, iterators):\n",
    "\n",
    "    for j in range(0, dataBoston.shape[0]):\n",
    "        t.append(np.sum([theta[1] * x[j,0]/max_values[0], \n",
    "                 theta[2] * x[j,1]/max_values[1], \n",
    "                 theta[3] * x[j,2]/max_values[2], \n",
    "                 theta[4] * x[j,3]/max_values[3], \n",
    "                 theta[5] * x[j,4]/max_values[4], \n",
    "                 theta[6] * x[j,5]/max_values[5], \n",
    "                 theta[7] * x[j,6]/max_values[6], \n",
    "                 theta[8] * x[j,7]/max_values[7], \n",
    "                 theta[9] * x[j,8]/max_values[8], \n",
    "                 theta[10] * x[j,9]/max_values[9],\n",
    "                 theta[11] * x[j,10]/max_values[10],\n",
    "                 theta[12] * x[j,11]/max_values[11],\n",
    "                 theta[13] * x[j,12]/max_values[12]]))\n",
    "        \n",
    "        #t.append(np.sum(np.transpose(theta[1:14]) * (x[j]/max_values)))\n",
    "    s = np.array(t).reshape(506,1)\n",
    "    \n",
    "    temp_theta_1 = theta[0] - (1/dataBoston.shape[0])*alpha * np.sum((theta[0] + s)[0] - sf_vector_y)\n",
    "    temp_theta_2 = theta[1] - (1/dataBoston.shape[0])*alpha * np.sum(((theta[0] + s)[0] - sf_vector_y)*x[:,0].reshape(506, 1)/max_values[0])\n",
    "    temp_theta_3 = theta[2] - (1/dataBoston.shape[0])*alpha * np.sum(((theta[0] + s)[0] - sf_vector_y)*x[:,1].reshape(506, 1)/max_values[1])\n",
    "    temp_theta_4 = theta[3] - (1/dataBoston.shape[0])*alpha * np.sum(((theta[0] + s)[0] - sf_vector_y)*x[:,2].reshape(506, 1)/max_values[2])\n",
    "    temp_theta_5 = theta[4] - (1/dataBoston.shape[0])*alpha * np.sum(((theta[0] + s)[0] - sf_vector_y)*x[:,3].reshape(506, 1)/max_values[3])\n",
    "    temp_theta_6 = theta[5] - (1/dataBoston.shape[0])*alpha * np.sum(((theta[0] + s)[0] - sf_vector_y)*x[:,4].reshape(506, 1)/max_values[4])\n",
    "    temp_theta_7 = theta[6] - (1/dataBoston.shape[0])*alpha * np.sum(((theta[0] + s)[0] - sf_vector_y)*x[:,5].reshape(506, 1)/max_values[5])\n",
    "    temp_theta_8 = theta[7] - (1/dataBoston.shape[0])*alpha * np.sum(((theta[0] + s)[0] - sf_vector_y)*x[:,6].reshape(506, 1)/max_values[6])\n",
    "    temp_theta_9 = theta[8] - (1/dataBoston.shape[0])*alpha * np.sum(((theta[0] + s)[0] - sf_vector_y)*x[:,7].reshape(506, 1)/max_values[7])\n",
    "    temp_theta_10 = theta[9] - (1/dataBoston.shape[0])*alpha * np.sum(((theta[0] + s)[0] - sf_vector_y)*x[:,8].reshape(506, 1)/max_values[8])\n",
    "    temp_theta_11 = theta[10] - (1/dataBoston.shape[0])*alpha * np.sum(((theta[0] + s)[0] - sf_vector_y)*x[:,9].reshape(506, 1)/max_values[9])\n",
    "    temp_theta_12 = theta[11] - (1/dataBoston.shape[0])*alpha * np.sum(((theta[0] + s)[0] - sf_vector_y)*x[:,10].reshape(506, 1)/max_values[10])\n",
    "    temp_theta_13 = theta[12] - (1/dataBoston.shape[0])*alpha * np.sum(((theta[0] + s)[0] - sf_vector_y)*x[:,11].reshape(506, 1)/max_values[11])\n",
    "    temp_theta_14 = theta[13] - (1/dataBoston.shape[0])*alpha * np.sum(((theta[0] + s)[0] - sf_vector_y)*x[:,12].reshape(506, 1)/max_values[12])\n",
    "\n",
    "    theta[0] = temp_theta_1\n",
    "    theta[1] = temp_theta_2\n",
    "    theta[2] = temp_theta_3\n",
    "    theta[3] = temp_theta_4\n",
    "    theta[4] = temp_theta_5\n",
    "    theta[5] = temp_theta_6\n",
    "    theta[6] = temp_theta_7\n",
    "    theta[7] = temp_theta_8\n",
    "    theta[8] = temp_theta_9\n",
    "    theta[9] = temp_theta_10\n",
    "    theta[10] = temp_theta_11\n",
    "    theta[11] = temp_theta_12\n",
    "    theta[12] = temp_theta_13\n",
    "    theta[13] = temp_theta_14\n",
    "    \n",
    "    t.clear()\n",
    "\n",
    "print('intercept is (theta_0)' + str(theta[0]))\n",
    "print('The Slope is (theta_1)' + str(theta[1]))\n",
    "print('The Slope is (theta_2)' + str(theta[2]))\n",
    "print('The Slope is (theta_3)' + str(theta[3]))\n",
    "print('The Slope is (theta_4)' + str(theta[4]))\n",
    "print('The Slope is (theta_5)' + str(theta[5]))\n",
    "print('The Slope is (theta_6)' + str(theta[6]))\n",
    "print('The Slope is (theta_7)' + str(theta[7]))\n",
    "print('The Slope is (theta_8)' + str(theta[8]))\n",
    "print('The Slope is (theta_9)' + str(theta[9]))\n",
    "print('The Slope is (theta_10)' + str(theta[10]))\n",
    "print('The Slope is (theta_11)' + str(theta[11]))\n",
    "print('The Slope is (theta_12)' + str(theta[12]))\n",
    "print('The Slope is (theta_13)' + str(theta[13]))"
   ]
  },
  {
   "cell_type": "code",
   "execution_count": 28,
   "metadata": {},
   "outputs": [
    {
     "data": {
      "text/plain": [
       "6.972760043742801e-05"
      ]
     },
     "execution_count": 28,
     "metadata": {},
     "output_type": "execute_result"
    }
   ],
   "source": [
    "for j in range(0, dataBoston.shape[0]):\n",
    "    \n",
    "    s = np.sum([theta[1] * x[j,0]/max_values[0], \n",
    "                 theta[2] * x[j,1]/max_values[1],\n",
    "                 theta[3] * x[j,2]/max_values[2],\n",
    "                 theta[4] * x[j,3]/max_values[3], \n",
    "                 theta[5] * x[j,4]/max_values[4], \n",
    "                 theta[6] * x[j,5]/max_values[5], \n",
    "                 theta[7] * x[j,6]/max_values[6], \n",
    "                 theta[8] * x[j,7]/max_values[7], \n",
    "                 theta[9] * x[j,8]/max_values[8], \n",
    "                 theta[10] * x[j,9]/max_values[9], \n",
    "                 theta[11] * x[j,10]/max_values[10],\n",
    "                 theta[12] * x[j,11]/max_values[11],\n",
    "                 theta[13] * x[j,12]/max_values[12]])\n",
    "    \n",
    "    J = (1/(2 * dataBoston.shape[0])) * np.sum(np.power((theta[0] + s) - y[j]/y.max(), 2))\n",
    "    \n",
    "J"
   ]
  },
  {
   "cell_type": "markdown",
   "metadata": {},
   "source": [
    "# 3 - con normalización media, sería a ser xi = (xi - promedio (característica)) / (max (característica) - min(característica))"
   ]
  },
  {
   "cell_type": "code",
   "execution_count": 29,
   "metadata": {},
   "outputs": [],
   "source": [
    "vector_x_CRIM = x[:,0].reshape(1, 506)\n",
    "vector_x_ZN = x[:,1].reshape(1, 506)\n",
    "vector_x_INDUS = x[:,2].reshape(1, 506)\n",
    "vector_x_CHAS = x[:,3].reshape(1, 506)\n",
    "vector_x_NOX = x[:,4].reshape(1, 506)\n",
    "vector_x_RM = x[:,5].reshape(1, 506)\n",
    "vector_x_AGE = x[:,6].reshape(1, 506)\n",
    "vector_x_DIS = x[:,7].reshape(1, 506)\n",
    "vector_x_RAD = x[:,8].reshape(1, 506)\n",
    "vector_x_TAX = x[:,9].reshape(1, 506)\n",
    "vector_x_PTRATIO = x[:,10].reshape(1, 506)\n",
    "vector_x_B = x[:,11].reshape(1, 506)\n",
    "vector_x_LSTAT = x[:,12].reshape(1, 506)\n",
    "vector_y = y.reshape(1, 506)\n",
    "\n",
    "max_vector_x_CRIM = vector_x_CRIM.max()\n",
    "max_vector_x_ZN = vector_x_ZN.max()\n",
    "max_vector_x_INDUS = vector_x_INDUS.max()\n",
    "max_vector_x_CHAS = vector_x_CHAS.max()\n",
    "max_vector_x_NOX = vector_x_NOX.max()\n",
    "max_vector_x_RM = vector_x_RM.max()\n",
    "max_vector_x_AGE = vector_x_AGE.max()\n",
    "max_vector_x_DIS = vector_x_DIS.max()\n",
    "max_vector_x_RAD = vector_x_RAD.max()\n",
    "max_vector_x_TAX = vector_x_TAX.max()\n",
    "max_vector_x_PTRATIO = vector_x_PTRATIO.max()\n",
    "max_vector_x_B = vector_x_B.max()\n",
    "max_vector_x_LSTAT = vector_x_LSTAT.max()\n",
    "max_vector_y = vector_y.max()\n",
    "\n",
    "max_values = np.array([max_vector_x_CRIM, max_vector_x_ZN, max_vector_x_INDUS, max_vector_x_CHAS, max_vector_x_NOX, max_vector_x_RM, max_vector_x_AGE, max_vector_x_DIS, max_vector_x_RAD, max_vector_x_TAX, max_vector_x_PTRATIO, max_vector_x_B, max_vector_x_LSTAT])\n",
    "sf_vector_y = (vector_y - np.average(vector_y)) / (max_vector_y - np.min(vector_y))"
   ]
  },
  {
   "cell_type": "code",
   "execution_count": 30,
   "metadata": {},
   "outputs": [
    {
     "name": "stdout",
     "output_type": "stream",
     "text": [
      "intercept is (theta_0)[-1.26558225e-13]\n",
      "The Slope is (theta_1)[-2.60074566e-12]\n",
      "The Slope is (theta_2)[-7.2770971e-12]\n",
      "The Slope is (theta_3)[-2.57095203e-11]\n",
      "The Slope is (theta_4)[-4.42953735e-12]\n",
      "The Slope is (theta_5)[-4.07827938e-11]\n",
      "The Slope is (theta_6)[-4.58380713e-11]\n",
      "The Slope is (theta_7)[-4.3914306e-11]\n",
      "The Slope is (theta_8)[-2.00411219e-11]\n",
      "The Slope is (theta_9)[-2.54803858e-11]\n",
      "The Slope is (theta_10)[-3.67691645e-11]\n",
      "The Slope is (theta_11)[-5.37210827e-11]\n",
      "The Slope is (theta_12)[-5.75481308e-11]\n",
      "The Slope is (theta_13)[-2.13400738e-11]\n"
     ]
    }
   ],
   "source": [
    "x = dataBoston.values\n",
    "y = target.values\n",
    "\n",
    "theta = np.zeros((dataBoston.shape[1] + 1, 1))\n",
    "iterators = 200\n",
    "alpha = 0.0002\n",
    "temp_theta_1 = 0\n",
    "temp_theta_2 = 0\n",
    "t = []\n",
    "\n",
    "for i in range(0, iterators):\n",
    "\n",
    "    for j in range(0, dataBoston.shape[0]):\n",
    "        t.append(np.sum([theta[1] * ((x[j,0] - np.average(x[:,0]))/(max_values[0] - np.min(x[:,0]))), \n",
    "                 theta[2] * ((x[j,1] - np.average(x[:,1]))/(max_values[1] - np.min(x[:,1]))), \n",
    "                 theta[3] * ((x[j,2] - np.average(x[:,2]))/(max_values[2] - np.min(x[:,2]))), \n",
    "                 theta[4] * ((x[j,3] - np.average(x[:,3]))/(max_values[3] - np.min(x[:,3]))), \n",
    "                 theta[5] * ((x[j,4] - np.average(x[:,4]))/(max_values[4] - np.min(x[:,4]))), \n",
    "                 theta[6] * ((x[j,5] - np.average(x[:,5]))/(max_values[5] - np.min(x[:,5]))), \n",
    "                 theta[7] * ((x[j,6] - np.average(x[:,6]))/(max_values[6] - np.min(x[:,6]))), \n",
    "                 theta[8] * ((x[j,7] - np.average(x[:,7]))/(max_values[7] - np.min(x[:,7]))), \n",
    "                 theta[9] * ((x[j,8] - np.average(x[:,8]))/(max_values[8] - np.min(x[:,8]))), \n",
    "                 theta[10] * ((x[j,9] - np.average(x[:,9]))/(max_values[9] - np.min(x[:,9]))),\n",
    "                 theta[11] * ((x[j,10] - np.average(x[:,10]))/(max_values[10] - np.min(x[:,10]))),\n",
    "                 theta[12] * ((x[j,11] - np.average(x[:,11]))/(max_values[11] - np.min(x[:,11]))),\n",
    "                 theta[13] * ((x[j,12] - np.average(x[:,12]))/(max_values[12] - np.min(x[:,12])))]))\n",
    "        \n",
    "        #t.append(np.sum(np.transpose(theta[1:14]) * (x[j]/max_values)))\n",
    "    s = np.array(t).reshape(506,1)\n",
    "    \n",
    "    temp_theta_1 = theta[0] - (1/dataBoston.shape[0])*alpha * np.sum((theta[0] + s)[0] - sf_vector_y)\n",
    "    temp_theta_2 = theta[1] - (1/dataBoston.shape[0])*alpha * np.sum(((theta[0] + s)[0] - sf_vector_y)*x[:,0].reshape(506, 1)/max_values[0])\n",
    "    temp_theta_3 = theta[2] - (1/dataBoston.shape[0])*alpha * np.sum(((theta[0] + s)[0] - sf_vector_y)*x[:,1].reshape(506, 1)/max_values[1])\n",
    "    temp_theta_4 = theta[3] - (1/dataBoston.shape[0])*alpha * np.sum(((theta[0] + s)[0] - sf_vector_y)*x[:,2].reshape(506, 1)/max_values[2])\n",
    "    temp_theta_5 = theta[4] - (1/dataBoston.shape[0])*alpha * np.sum(((theta[0] + s)[0] - sf_vector_y)*x[:,3].reshape(506, 1)/max_values[3])\n",
    "    temp_theta_6 = theta[5] - (1/dataBoston.shape[0])*alpha * np.sum(((theta[0] + s)[0] - sf_vector_y)*x[:,4].reshape(506, 1)/max_values[4])\n",
    "    temp_theta_7 = theta[6] - (1/dataBoston.shape[0])*alpha * np.sum(((theta[0] + s)[0] - sf_vector_y)*x[:,5].reshape(506, 1)/max_values[5])\n",
    "    temp_theta_8 = theta[7] - (1/dataBoston.shape[0])*alpha * np.sum(((theta[0] + s)[0] - sf_vector_y)*x[:,6].reshape(506, 1)/max_values[6])\n",
    "    temp_theta_9 = theta[8] - (1/dataBoston.shape[0])*alpha * np.sum(((theta[0] + s)[0] - sf_vector_y)*x[:,7].reshape(506, 1)/max_values[7])\n",
    "    temp_theta_10 = theta[9] - (1/dataBoston.shape[0])*alpha * np.sum(((theta[0] + s)[0] - sf_vector_y)*x[:,8].reshape(506, 1)/max_values[8])\n",
    "    temp_theta_11 = theta[10] - (1/dataBoston.shape[0])*alpha * np.sum(((theta[0] + s)[0] - sf_vector_y)*x[:,9].reshape(506, 1)/max_values[9])\n",
    "    temp_theta_12 = theta[11] - (1/dataBoston.shape[0])*alpha * np.sum(((theta[0] + s)[0] - sf_vector_y)*x[:,10].reshape(506, 1)/max_values[10])\n",
    "    temp_theta_13 = theta[12] - (1/dataBoston.shape[0])*alpha * np.sum(((theta[0] + s)[0] - sf_vector_y)*x[:,11].reshape(506, 1)/max_values[11])\n",
    "    temp_theta_14 = theta[13] - (1/dataBoston.shape[0])*alpha * np.sum(((theta[0] + s)[0] - sf_vector_y)*x[:,12].reshape(506, 1)/max_values[12])\n",
    "\n",
    "    theta[0] = temp_theta_1\n",
    "    theta[1] = temp_theta_2\n",
    "    theta[2] = temp_theta_3\n",
    "    theta[3] = temp_theta_4\n",
    "    theta[4] = temp_theta_5\n",
    "    theta[5] = temp_theta_6\n",
    "    theta[6] = temp_theta_7\n",
    "    theta[7] = temp_theta_8\n",
    "    theta[8] = temp_theta_9\n",
    "    theta[9] = temp_theta_10\n",
    "    theta[10] = temp_theta_11\n",
    "    theta[11] = temp_theta_12\n",
    "    theta[12] = temp_theta_13\n",
    "    theta[13] = temp_theta_14\n",
    "    \n",
    "    t.clear()\n",
    "\n",
    "print('intercept is (theta_0)' + str(theta[0]))\n",
    "print('The Slope is (theta_1)' + str(theta[1]))\n",
    "print('The Slope is (theta_2)' + str(theta[2]))\n",
    "print('The Slope is (theta_3)' + str(theta[3]))\n",
    "print('The Slope is (theta_4)' + str(theta[4]))\n",
    "print('The Slope is (theta_5)' + str(theta[5]))\n",
    "print('The Slope is (theta_6)' + str(theta[6]))\n",
    "print('The Slope is (theta_7)' + str(theta[7]))\n",
    "print('The Slope is (theta_8)' + str(theta[8]))\n",
    "print('The Slope is (theta_9)' + str(theta[9]))\n",
    "print('The Slope is (theta_10)' + str(theta[10]))\n",
    "print('The Slope is (theta_11)' + str(theta[11]))\n",
    "print('The Slope is (theta_12)' + str(theta[12]))\n",
    "print('The Slope is (theta_13)' + str(theta[13]))"
   ]
  },
  {
   "cell_type": "code",
   "execution_count": 31,
   "metadata": {},
   "outputs": [
    {
     "data": {
      "text/plain": [
       "5.5168384485120646e-05"
      ]
     },
     "execution_count": 31,
     "metadata": {},
     "output_type": "execute_result"
    }
   ],
   "source": [
    "for j in range(0, dataBoston.shape[0]):\n",
    "    \n",
    "    s = np.sum([theta[1] * ((x[j,0] - np.average(x[:,0]))/(max_values[0] - np.min(x[:,0]))), \n",
    "                 theta[2] * ((x[j,1] - np.average(x[:,1]))/(max_values[1] - np.min(x[:,1]))), \n",
    "                 theta[3] * ((x[j,2] - np.average(x[:,2]))/(max_values[2] - np.min(x[:,2]))), \n",
    "                 theta[4] * ((x[j,3] - np.average(x[:,3]))/(max_values[3] - np.min(x[:,3]))), \n",
    "                 theta[5] * ((x[j,4] - np.average(x[:,4]))/(max_values[4] - np.min(x[:,4]))), \n",
    "                 theta[6] * ((x[j,5] - np.average(x[:,5]))/(max_values[5] - np.min(x[:,5]))), \n",
    "                 theta[7] * ((x[j,6] - np.average(x[:,6]))/(max_values[6] - np.min(x[:,6]))), \n",
    "                 theta[8] * ((x[j,7] - np.average(x[:,7]))/(max_values[7] - np.min(x[:,7]))), \n",
    "                 theta[9] * ((x[j,8] - np.average(x[:,8]))/(max_values[8] - np.min(x[:,8]))), \n",
    "                 theta[10] * ((x[j,9] - np.average(x[:,9]))/(max_values[9] - np.min(x[:,9]))),\n",
    "                 theta[11] * ((x[j,10] - np.average(x[:,10]))/(max_values[10] - np.min(x[:,10]))),\n",
    "                 theta[12] * ((x[j,11] - np.average(x[:,11]))/(max_values[11] - np.min(x[:,11]))),\n",
    "                 theta[13] * ((x[j,12] - np.average(x[:,12]))/(max_values[12] - np.min(x[:,12])))])\n",
    "    \n",
    "    J = (1/(2 * dataBoston.shape[0])) * np.sum(np.power((theta[0] + s) - (y[j] - np.average(y))/(y.max() - y.min()), 2))\n",
    "    \n",
    "J"
   ]
  },
  {
   "cell_type": "code",
   "execution_count": 102,
   "metadata": {},
   "outputs": [
    {
     "data": {
      "text/plain": [
       "array([[ 3.64594884e+01],\n",
       "       [-1.08011358e-01],\n",
       "       [ 4.64204584e-02],\n",
       "       [ 2.05586264e-02],\n",
       "       [ 2.68673382e+00],\n",
       "       [-1.77666112e+01],\n",
       "       [ 3.80986521e+00],\n",
       "       [ 6.92224640e-04],\n",
       "       [-1.47556685e+00],\n",
       "       [ 3.06049479e-01],\n",
       "       [-1.23345939e-02],\n",
       "       [-9.52747232e-01],\n",
       "       [ 9.31168327e-03],\n",
       "       [-5.24758378e-01]])"
      ]
     },
     "execution_count": 102,
     "metadata": {},
     "output_type": "execute_result"
    }
   ],
   "source": [
    "dataset = np.copy(dataBoston)\n",
    "x\n",
    "y\n",
    "\n",
    "import numpy as np\n",
    "\n",
    "col = np.ones((dataBoston.shape[0], 1))\n",
    "dataset_x =  np.copy(x)\n",
    "target = np.hstack((dataset_x[:,:0], col, dataset_x[:,0:]))\n",
    "target\n",
    "\n",
    "# (X'X)^-1\n",
    "theta_normalEquation = np.transpose(target).dot(target)\n",
    "theta_normalEquation.shape\n",
    "invMatrix = np.linalg.inv(theta_normalEquation)\n",
    "invMatrix\n",
    "\n",
    "# (X'y)\n",
    "multiply_Xt_y = np.transpose(target).dot(y)\n",
    "multiply_Xt_y\n",
    "\n",
    "\n",
    "#Se calcula los parámetros theta finales\n",
    "normalEquation_computed = invMatrix.dot(multiply_Xt_y)\n",
    "normalEquation_computed\n",
    "\n",
    "\"\"\"\n",
    "The coeficients are:  [-1.08011358e-01  4.64204584e-02  2.05586264e-02  2.68673382e+00\n",
    " -1.77666112e+01  3.80986521e+00  6.92224640e-04 -1.47556685e+00\n",
    "  3.06049479e-01 -1.23345939e-02 -9.52747232e-01  9.31168327e-03\n",
    " -5.24758378e-01]\n",
    "The intercept is:  36.45948838509045\n",
    "\"\"\""
   ]
  },
  {
   "cell_type": "code",
   "execution_count": null,
   "metadata": {},
   "outputs": [],
   "source": []
  },
  {
   "cell_type": "code",
   "execution_count": null,
   "metadata": {},
   "outputs": [],
   "source": []
  },
  {
   "cell_type": "code",
   "execution_count": null,
   "metadata": {},
   "outputs": [],
   "source": []
  },
  {
   "cell_type": "code",
   "execution_count": null,
   "metadata": {},
   "outputs": [],
   "source": []
  },
  {
   "cell_type": "code",
   "execution_count": null,
   "metadata": {},
   "outputs": [],
   "source": []
  },
  {
   "cell_type": "code",
   "execution_count": 201,
   "metadata": {},
   "outputs": [],
   "source": []
  },
  {
   "cell_type": "code",
   "execution_count": null,
   "metadata": {},
   "outputs": [],
   "source": []
  },
  {
   "cell_type": "code",
   "execution_count": null,
   "metadata": {},
   "outputs": [],
   "source": []
  },
  {
   "cell_type": "code",
   "execution_count": null,
   "metadata": {},
   "outputs": [],
   "source": []
  },
  {
   "cell_type": "code",
   "execution_count": null,
   "metadata": {},
   "outputs": [],
   "source": []
  },
  {
   "cell_type": "code",
   "execution_count": null,
   "metadata": {},
   "outputs": [],
   "source": []
  },
  {
   "cell_type": "code",
   "execution_count": null,
   "metadata": {},
   "outputs": [],
   "source": []
  },
  {
   "cell_type": "code",
   "execution_count": null,
   "metadata": {},
   "outputs": [],
   "source": []
  },
  {
   "cell_type": "code",
   "execution_count": null,
   "metadata": {},
   "outputs": [],
   "source": []
  },
  {
   "cell_type": "code",
   "execution_count": null,
   "metadata": {},
   "outputs": [],
   "source": []
  }
 ],
 "metadata": {
  "kernelspec": {
   "display_name": "Python 3",
   "language": "python",
   "name": "python3"
  },
  "language_info": {
   "codemirror_mode": {
    "name": "ipython",
    "version": 3
   },
   "file_extension": ".py",
   "mimetype": "text/x-python",
   "name": "python",
   "nbconvert_exporter": "python",
   "pygments_lexer": "ipython3",
   "version": "3.7.0"
  }
 },
 "nbformat": 4,
 "nbformat_minor": 2
}
