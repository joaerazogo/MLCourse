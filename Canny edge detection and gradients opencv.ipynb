{
 "cells": [
  {
   "cell_type": "code",
   "execution_count": 1,
   "metadata": {},
   "outputs": [],
   "source": [
    "import cv2\n",
    "import numpy as np\n",
    "\n",
    "cap = cv2.VideoCapture(0)\n",
    "\n",
    "while(True):\n",
    "    # Capture frame-by-frame\n",
    "    ret, frame = cap.read()\n",
    "\n",
    "    # Our operations on the frame come here\n",
    "    laplacian = cv2.Laplacian(frame, cv2.CV_64F)\n",
    "    sobelx = cv2.Sobel(frame, cv2.CV_64F, 1, 0, ksize = 5)\n",
    "    sobely = cv2.Sobel(frame, cv2.CV_64F, 0, 1, ksize = 5)\n",
    "    edges = cv2.Canny(frame, 100, 200)\n",
    "    \n",
    "    # Display the resulting frame\n",
    "    cv2.imshow('frame',frame)\n",
    "    cv2.imshow('frame',laplacian)\n",
    "    cv2.imshow('sobelx',sobelx)\n",
    "    cv2.imshow('sobely',sobely)\n",
    "    cv2.imshow('edges',edges)\n",
    "    \n",
    "    k = cv2.waitKey(1) & 0xFF\n",
    "    if k == 27:\n",
    "        break\n",
    "\n",
    "# When everything done, release the capture\n",
    "cap.release()\n",
    "cv2.destroyAllWindows()"
   ]
  },
  {
   "cell_type": "code",
   "execution_count": 2,
   "metadata": {},
   "outputs": [],
   "source": [
    "from matplotlib import pyplot as plt\n",
    "\n",
    "img = cv2.imread('C:/Users/JERAZO/Documents/Curso-MachineLearning/MLCourse/images/watch.jpg',cv2.IMREAD_GRAYSCALE)\n",
    "cv2.imshow('image', img)\n",
    "cv2.waitKey(0)\n",
    "cv2.destroyAllWindows()"
   ]
  },
  {
   "cell_type": "code",
   "execution_count": 64,
   "metadata": {},
   "outputs": [],
   "source": [
    "import numpy as np\n",
    "\n",
    "def hough_line(img):\n",
    "    # Rho and Theta ranges\n",
    "    thetas = np.deg2rad(np.arange(-90.0, 90.0))\n",
    "    width, height = img.shape\n",
    "    diag_len = np.ceil(np.sqrt(width * width + height * height)) # max_dist\n",
    "    rhos = np.linspace(-diag_len, diag_len, diag_len * 2.0)\n",
    "    \n",
    "    # Cache some resuable values\n",
    "    cos_t = np.cos(thetas)\n",
    "    sin_t = np.sin(thetas)\n",
    "    num_thetas = len(thetas)\n",
    "\n",
    "    # Hough accumulator array of theta vs rho\n",
    "    accumulator = np.zeros((2 * int(diag_len), num_thetas), dtype=np.uint64) #Corregir\n",
    "    y_idxs, x_idxs = np.nonzero(img)  # (row, col) indexes to edges\n",
    "\n",
    "    # Vote in the hough accumulator\n",
    "    for i in range(len(x_idxs)):\n",
    "        x = x_idxs[i]\n",
    "        y = y_idxs[i]\n",
    "\n",
    "        for t_idx in range(num_thetas):\n",
    "            # Calculate rho. diag_len is added for a positive index\n",
    "            rho = round(x * cos_t[t_idx] + y * sin_t[t_idx]) + diag_len\n",
    "            accumulator[int(rho), t_idx] += 1\n",
    "\n",
    "    return accumulator, thetas, rhos"
   ]
  },
  {
   "cell_type": "code",
   "execution_count": 83,
   "metadata": {},
   "outputs": [
    {
     "name": "stdout",
     "output_type": "stream",
     "text": [
      "rho=0.50, theta=-45\n"
     ]
    },
    {
     "name": "stderr",
     "output_type": "stream",
     "text": [
      "C:\\Users\\JERAZO\\AppData\\Local\\Continuum\\anaconda3\\lib\\site-packages\\ipykernel_launcher.py:8: DeprecationWarning: object of type <class 'numpy.float64'> cannot be safely interpreted as an integer.\n",
      "  \n"
     ]
    }
   ],
   "source": [
    "# Create binary image and call hough_line\n",
    "image = np.zeros((50,50))\n",
    "image[10:40, 10:40] = np.eye(30)\n",
    "accumulator, thetas, rhos = hough_line(image)\n",
    "\n",
    "# Easiest peak finding based on max votes\n",
    "idx = np.argmax(accumulator)\n",
    "rho = rhos[int(idx / accumulator.shape[1])]\n",
    "theta = thetas[idx % accumulator.shape[1]]\n",
    "print(\"rho={0:.2f}, theta={1:.0f}\".format(rho, np.rad2deg(theta)))"
   ]
  },
  {
   "cell_type": "code",
   "execution_count": 82,
   "metadata": {},
   "outputs": [
    {
     "name": "stdout",
     "output_type": "stream",
     "text": [
      "[0 0 0 1 1 1 2 2]\n",
      "[0 1 3 0 1 3 0 2]\n"
     ]
    },
    {
     "name": "stderr",
     "output_type": "stream",
     "text": [
      "C:\\Users\\JERAZO\\AppData\\Local\\Continuum\\anaconda3\\lib\\site-packages\\ipykernel_launcher.py:3: DeprecationWarning: object of type <class 'float'> cannot be safely interpreted as an integer.\n",
      "  This is separate from the ipykernel package so we can avoid doing imports until\n"
     ]
    }
   ],
   "source": [
    "np.eye(30)\n",
    "np.arange(-10.0, 10.0)\n",
    "np.linspace(-5, 5, 5 * 2.0)\n",
    "np.ceil(np.sqrt(2500 + 2500)) \n",
    "\n",
    "a = np.array([[0, 0, 0, 0, 0, 0],\n",
    " [0, 0, 0, 0, 0, 0],\n",
    " [0, 0, 0, 0, 0, 0],\n",
    " [0, 0, 0, 0, 0, 0],\n",
    " [0, 0, 0, 0, 0, 0],\n",
    " [0, 0, 0, 0, 0, 0]])\n",
    "\n",
    "a[1,0] + 1\n",
    "y_idxs, x_idxs = np.nonzero(np.array([[3, 5, 0, 5], [1, 2, 0, 3], [4, 0, 4, 0]])) \n",
    "print(y_idxs)\n",
    "print(x_idxs)"
   ]
  }
 ],
 "metadata": {
  "kernelspec": {
   "display_name": "Python 3",
   "language": "python",
   "name": "python3"
  },
  "language_info": {
   "codemirror_mode": {
    "name": "ipython",
    "version": 3
   },
   "file_extension": ".py",
   "mimetype": "text/x-python",
   "name": "python",
   "nbconvert_exporter": "python",
   "pygments_lexer": "ipython3",
   "version": "3.7.0"
  }
 },
 "nbformat": 4,
 "nbformat_minor": 2
}
